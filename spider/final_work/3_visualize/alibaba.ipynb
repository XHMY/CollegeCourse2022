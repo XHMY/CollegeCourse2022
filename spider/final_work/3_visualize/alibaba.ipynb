{
 "cells": [
  {
   "cell_type": "code",
   "execution_count": 1,
   "id": "af3834dc-5bca-4a66-9751-6b92860eb137",
   "metadata": {},
   "outputs": [],
   "source": [
    "from pymongo import MongoClient"
   ]
  },
  {
   "cell_type": "code",
   "execution_count": 4,
   "id": "3b6f2793-d8e0-409a-b169-26a835a39510",
   "metadata": {},
   "outputs": [
    {
     "data": {
      "text/plain": [
       "{'_id': ObjectId('6299797688e1166124abbc02'),\n",
       " 'trackId': 'SSP1654225270245xncmMNgQrn2929',\n",
       " 'positionUrl': '/off-campus/position-detail?positionId=835833&track_id=SSP1654225270245xncmMNgQrn2929',\n",
       " 'bucket': 'DEFAULT',\n",
       " 'id': 835833,\n",
       " 'name': '淘特-高级服务解决方案专员-杭州',\n",
       " 'status': None,\n",
       " 'categories': ['客户体验-服务体验'],\n",
       " 'publishTime': 1654222142000,\n",
       " 'graduationTime': None,\n",
       " 'modifyTime': 1654222142000,\n",
       " 'workLocations': ['杭州'],\n",
       " 'interviewLocations': None,\n",
       " 'regionEnNameMap': {},\n",
       " 'technologyNameIdMap': {},\n",
       " 'tags': ['NEW'],\n",
       " 'requirement': '1、有3年及以上的服务解决方案相关经验；\\n2、具备项目管理、数据分析、统筹能力；\\n3、思路清晰，擅长逻辑，具有结构化思考和表达能力；\\n4、有团队合作精神，善于跨团队协作、调度资源、解决问题、推动项目落地实现拿结果的能力；\\n5、能快速应对日常业务节奏带来的变化。\\n\\n\\n我们鼓励人人践行公益，同学如参与过公益活动，有相关证明，也欢迎附在简历中。参考依据包括但不限于：全国志愿服务信息系统开具的志愿服务证明、“人人3小时”公益平台公益时证书、志愿服务组织（含社会团体、社会服务机构、基金会）授予的志愿服务证明等。',\n",
       " 'description': '1. 针对直营店铺to C消费者求助场景，围绕极简、有保障全链路服务解决方案设计；\\n2. 协同多方协同共识，共建消费者极致化服务方案；\\n3. 推动能力建设，实现服务方案在智能、自动化、人工的产品能力上的实现 ；\\n4. 针对个性化淘特店铺定制化服务进阶方案设计，满足个性化店铺的消费者述求。',\n",
       " 'experience': {'from': 3, 'to': None},\n",
       " 'degree': 'bachelor',\n",
       " 'department': '阿里集团',\n",
       " 'project': None,\n",
       " 'positionType': None,\n",
       " 'code': 'GP835833',\n",
       " 'categoryName': None,\n",
       " 'categoryType': None,\n",
       " 'batchName': None,\n",
       " 'batchId': None,\n",
       " 'channels': None,\n",
       " 'operations': []}"
      ]
     },
     "execution_count": 4,
     "metadata": {},
     "output_type": "execute_result"
    }
   ],
   "source": [
    "client = MongoClient('localhost', 27017)\n",
    "client['jobspider_raw']['alibaba'].find_one()"
   ]
  },
  {
   "cell_type": "code",
   "execution_count": 3,
   "id": "e3febe57-8e22-4717-a78e-7545dea46f29",
   "metadata": {},
   "outputs": [],
   "source": [
    "result = client['jobspider_raw']['alibaba'].aggregate([\n",
    "    {\n",
    "        '$project': {\n",
    "            'id': 1, \n",
    "            'company': 'alibaba', \n",
    "            'name': 1, \n",
    "            'categories': {\n",
    "                '$arrayElemAt': [\n",
    "                    '$categories', 0\n",
    "                ]\n",
    "            }, \n",
    "            'publishTime': {\n",
    "                '$toDate': '$publishTime'\n",
    "            }, \n",
    "            'workLocations': {\n",
    "                '$arrayElemAt': [\n",
    "                    '$workLocations', 0\n",
    "                ]\n",
    "            }, \n",
    "            'requirement': 1, \n",
    "            'description': 1, \n",
    "            'experience': '$experience.from', \n",
    "            'degree': 1, \n",
    "            'department': 1\n",
    "        }\n",
    "    }\n",
    "])"
   ]
  },
  {
   "cell_type": "code",
   "execution_count": null,
   "id": "c6f3f9f8-da63-454a-915a-173f5a802aa8",
   "metadata": {},
   "outputs": [],
   "source": []
  }
 ],
 "metadata": {
  "kernelspec": {
   "display_name": "Python 3 (ipykernel)",
   "language": "python",
   "name": "python3"
  },
  "language_info": {
   "codemirror_mode": {
    "name": "ipython",
    "version": 3
   },
   "file_extension": ".py",
   "mimetype": "text/x-python",
   "name": "python",
   "nbconvert_exporter": "python",
   "pygments_lexer": "ipython3",
   "version": "3.9.5"
  }
 },
 "nbformat": 4,
 "nbformat_minor": 5
}
