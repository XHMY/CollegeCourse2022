{
 "cells": [
  {
   "cell_type": "markdown",
   "id": "5b9ba779",
   "metadata": {
    "pycharm": {
     "name": "#%% md\n"
    }
   },
   "source": [
    "# 20190105 曾一凡 `Xpath` 爬虫作业"
   ]
  },
  {
   "cell_type": "markdown",
   "id": "6a0b9e53",
   "metadata": {
    "pycharm": {
     "name": "#%% md\n"
    }
   },
   "source": [
    "使用lxml爬取51job_python职位内容"
   ]
  },
  {
   "cell_type": "markdown",
   "id": "478ba0cb",
   "metadata": {
    "pycharm": {
     "name": "#%% md\n"
    }
   },
   "source": [
    "具体要求：\n",
    "\n",
    "1. 通过request爬取职位列表信息到本地【如果爬得的数据是json，不好处理，则直接通过浏览器拷贝职位列表的代码】\n",
    "2. 通过lxml解析爬取下来的网页信息\n",
    "3. 提取职位名称、公司名称、福利信息、学历要求\n",
    "4. 将爬取结果存储到csv中"
   ]
  },
  {
   "cell_type": "code",
   "execution_count": 1,
   "id": "b6fbb8b4",
   "metadata": {
    "collapsed": false,
    "jupyter": {
     "outputs_hidden": false
    },
    "pycharm": {
     "is_executing": true,
     "name": "#%%\n"
    }
   },
   "outputs": [],
   "source": [
    "import requests\n",
    "import pandas as pd\n",
    "from fake_useragent import UserAgent\n",
    "from lxml import etree"
   ]
  },
  {
   "cell_type": "markdown",
   "id": "5f81ea7f",
   "metadata": {
    "pycharm": {
     "name": "#%% md\n"
    }
   },
   "source": [
    "## 一、使用request读取网页内容"
   ]
  },
  {
   "cell_type": "raw",
   "id": "f4cd3c3b-e387-484a-a389-f3d445cfee45",
   "metadata": {
    "jupyter": {
     "outputs_hidden": false
    },
    "pycharm": {
     "name": "#%%\n"
    }
   },
   "source": [
    "ua = UserAgent()\n",
    "url = 'https://search.51job.com/list/000000,000000,0000,00,9,99,python,2,1.html?lang=c&postchannel=0000&workyear=99&cotype=99&degreefrom=99&jobterm=99&companysize=99&ord_field=0&dibiaoid=0&line=&welfare='\n",
    "headers = {'User-Agent': ua.chrome}\n",
    "r = requests.get(url,headers=headers)\n",
    "print(r.text)"
   ]
  },
  {
   "cell_type": "markdown",
   "id": "6be6b6a2-e877-4e9d-aec2-88a2380585da",
   "metadata": {},
   "source": [
    "## 二、将目标网页代码保存到本地后进行读取"
   ]
  },
  {
   "cell_type": "code",
   "execution_count": 2,
   "id": "c611cf92-dc64-4b5a-97c0-4a30d2cba182",
   "metadata": {
    "scrolled": true,
    "tags": []
   },
   "outputs": [
    {
     "name": "stdout",
     "output_type": "stream",
     "text": [
      "\n",
      "<!DOCTYPE html>\n",
      "\n",
      "<head>\n",
      "</head>\n",
      "\n",
      "<body>\n",
      "    \n",
      "<div class=\"j_joblist\">\n",
      "        \n",
      "<div class=\"e\">\n",
      "     \n"
     ]
    }
   ],
   "source": [
    "with open(\"python招聘求职_前程无忧.html\", 'r', encoding='UTF-8') as f:\n",
    "    html = f.read()\n",
    "print(html[:100])"
   ]
  },
  {
   "cell_type": "markdown",
   "id": "8e6bbaf6-6fb1-4376-898b-d8a4efd37021",
   "metadata": {},
   "source": [
    "## 三、使用lxml——etree读取构建HTML架构"
   ]
  },
  {
   "cell_type": "code",
   "execution_count": 3,
   "id": "1bb32ba0-2313-4ac5-bf3a-b20e261e7a59",
   "metadata": {},
   "outputs": [
    {
     "data": {
      "text/plain": [
       "<Element html at 0x1d3898e0f40>"
      ]
     },
     "execution_count": 3,
     "metadata": {},
     "output_type": "execute_result"
    }
   ],
   "source": [
    "html_structure=etree.HTML(html) # 使用lxml中的 etree 将文件读取成 HTML 架构\n",
    "html_structure"
   ]
  },
  {
   "cell_type": "markdown",
   "id": "d72f3634-eace-4586-9885-c5760983bcd7",
   "metadata": {},
   "source": [
    "## 四、存储目标信息"
   ]
  },
  {
   "cell_type": "markdown",
   "id": "679daa51-fbf1-474c-8c0c-807dea8a1a78",
   "metadata": {},
   "source": [
    "### 4.1 存储职位名称"
   ]
  },
  {
   "cell_type": "code",
   "execution_count": 4,
   "id": "d483fa83-f7f4-40b8-9887-445ea7e1b291",
   "metadata": {},
   "outputs": [
    {
     "data": {
      "text/plain": [
       "50"
      ]
     },
     "execution_count": 4,
     "metadata": {},
     "output_type": "execute_result"
    }
   ],
   "source": [
    "jobs_xpaht='//p//span[@title]/text()' # xpath规则提取职业名称\n",
    "raw_jobs=html_structure.xpath(jobs_xpaht)\n",
    "jobs_name = [i.strip('\\n') for i in raw_jobs]\n",
    "len(jobs_name) # 查看所获得的职业名称数组长度"
   ]
  },
  {
   "cell_type": "markdown",
   "id": "2fb062ff-f921-45a3-ae60-475b1620158e",
   "metadata": {},
   "source": [
    "### 4.2 存储公司名称"
   ]
  },
  {
   "cell_type": "code",
   "execution_count": 5,
   "id": "730c7318-c083-4704-bfd8-5095e1bafcdd",
   "metadata": {},
   "outputs": [
    {
     "data": {
      "text/plain": [
       "50"
      ]
     },
     "execution_count": 5,
     "metadata": {},
     "output_type": "execute_result"
    }
   ],
   "source": [
    "companies_xpaht='//div[@class=\"er\"]//a/text()' # xpath规则提取公司名称\n",
    "raw_companies=html_structure.xpath(companies_xpaht)\n",
    "companies_name = [i.strip('\\n') for i in raw_companies]\n",
    "len(companies_name) # 查看所获得的公司名称数组长度"
   ]
  },
  {
   "cell_type": "markdown",
   "id": "0fa90e09-4ead-48b5-9873-8d45e7cc36b4",
   "metadata": {},
   "source": [
    "### 4.3 存储福利信息"
   ]
  },
  {
   "cell_type": "code",
   "execution_count": 6,
   "id": "56e3c9ca-942b-4b31-8180-08ee3b17b2b7",
   "metadata": {},
   "outputs": [
    {
     "data": {
      "text/plain": [
       "50"
      ]
     },
     "execution_count": 6,
     "metadata": {},
     "output_type": "execute_result"
    }
   ],
   "source": [
    "welfare_xpaht='/html/body/div/div[*]/a' # xpath规则提取福利\n",
    "welfare = [str(r.xpath('p/@title'))[2:-2] for r in html_structure.xpath(welfare_xpaht)]\n",
    "len(welfare)"
   ]
  },
  {
   "cell_type": "markdown",
   "id": "fe847a28-2925-424c-bc5c-31a3d84540fb",
   "metadata": {},
   "source": [
    "### 4.4 存储学历信息"
   ]
  },
  {
   "cell_type": "code",
   "execution_count": 7,
   "id": "0dd78149-c28c-42de-b21e-c6b628980712",
   "metadata": {},
   "outputs": [
    {
     "data": {
      "text/plain": [
       "50"
      ]
     },
     "execution_count": 7,
     "metadata": {},
     "output_type": "execute_result"
    }
   ],
   "source": [
    "Info_xpaht='//div//a//p//span[@class=\"d at\"]/text()' # xpath规则提取学历相关信息\n",
    "raw_Info=html_structure.xpath(Info_xpaht)\n",
    "education= [i.split('|')[-1].strip() for i in raw_Info]\n",
    "len(education)"
   ]
  },
  {
   "cell_type": "markdown",
   "id": "d434aab5-51c5-4852-aa0b-91444aa14156",
   "metadata": {},
   "source": [
    "## 五、导入csv"
   ]
  },
  {
   "cell_type": "code",
   "execution_count": 8,
   "id": "29a4b4f4-f0a5-4564-8c72-0f74b21ef43d",
   "metadata": {
    "scrolled": true,
    "tags": []
   },
   "outputs": [
    {
     "data": {
      "text/html": [
       "<div>\n",
       "<style scoped>\n",
       "    .dataframe tbody tr th:only-of-type {\n",
       "        vertical-align: middle;\n",
       "    }\n",
       "\n",
       "    .dataframe tbody tr th {\n",
       "        vertical-align: top;\n",
       "    }\n",
       "\n",
       "    .dataframe thead th {\n",
       "        text-align: right;\n",
       "    }\n",
       "</style>\n",
       "<table border=\"1\" class=\"dataframe\">\n",
       "  <thead>\n",
       "    <tr style=\"text-align: right;\">\n",
       "      <th></th>\n",
       "      <th>Jobs Name</th>\n",
       "      <th>Companies Name</th>\n",
       "      <th>Welfare</th>\n",
       "      <th>Education</th>\n",
       "    </tr>\n",
       "  </thead>\n",
       "  <tbody>\n",
       "    <tr>\n",
       "      <th>0</th>\n",
       "      <td>Python软件开发工程师</td>\n",
       "      <td>江门市安豪贸易有限公司</td>\n",
       "      <td>五险一金 绩效奖金 专业培训 定期体检 员工旅游 月休6天</td>\n",
       "      <td>大专</td>\n",
       "    </tr>\n",
       "    <tr>\n",
       "      <th>1</th>\n",
       "      <td>Python开发高级工程师</td>\n",
       "      <td>广东众图科技有限公司</td>\n",
       "      <td>五险一金 周末双休 带薪年假 专业培训 绩效奖金 团队聚餐 员工旅游</td>\n",
       "      <td>大专</td>\n",
       "    </tr>\n",
       "    <tr>\n",
       "      <th>2</th>\n",
       "      <td>Python开发助理</td>\n",
       "      <td>深圳市一苣技术有限公司</td>\n",
       "      <td>五险一金 补充医疗保险 员工旅游 交通补贴 绩效奖金 年终奖金 弹性工作 定期体检 周末双休</td>\n",
       "      <td>大专</td>\n",
       "    </tr>\n",
       "    <tr>\n",
       "      <th>3</th>\n",
       "      <td>Python架构师</td>\n",
       "      <td>深圳市云盾科技有限公司</td>\n",
       "      <td>五险一金 绩效奖金 股票期权 年终奖金 餐饮补贴 通讯补贴 带薪年假</td>\n",
       "      <td>本科</td>\n",
       "    </tr>\n",
       "    <tr>\n",
       "      <th>4</th>\n",
       "      <td>python 爬虫开发</td>\n",
       "      <td>青岛同济孵化器有限公司</td>\n",
       "      <td>五险一金 年终奖金 绩效奖金 年终分红 餐饮补贴 带薪年假 周末双休</td>\n",
       "      <td>本科</td>\n",
       "    </tr>\n",
       "    <tr>\n",
       "      <th>5</th>\n",
       "      <td>（产研二部）python后端工程师</td>\n",
       "      <td>浙江木链物联网科技有限公司</td>\n",
       "      <td>五险一金 专业培训 绩效奖金 年终奖金</td>\n",
       "      <td>本科</td>\n",
       "    </tr>\n",
       "    <tr>\n",
       "      <th>6</th>\n",
       "      <td>Python爬虫开发工程师</td>\n",
       "      <td>深圳市前海房极客网络科技有限公司</td>\n",
       "      <td>股票期权 弹性工作 五险一金</td>\n",
       "      <td>大专</td>\n",
       "    </tr>\n",
       "    <tr>\n",
       "      <th>7</th>\n",
       "      <td>PYTHON开发工程师（年底双薪+五险一金）</td>\n",
       "      <td>广州烽云信息科技有限公司</td>\n",
       "      <td>五险一金 周末双休 带薪年假 全勤奖 节日福利 通讯补贴 交通补贴 补充医疗保险 员工旅游 ...</td>\n",
       "      <td>本科</td>\n",
       "    </tr>\n",
       "    <tr>\n",
       "      <th>8</th>\n",
       "      <td>Python开发工程师</td>\n",
       "      <td>易宝软件（东莞）有限公司</td>\n",
       "      <td></td>\n",
       "      <td>本科</td>\n",
       "    </tr>\n",
       "    <tr>\n",
       "      <th>9</th>\n",
       "      <td>Python开发工程师</td>\n",
       "      <td>东莞市找大状互联网技术有限公司</td>\n",
       "      <td></td>\n",
       "      <td>本科</td>\n",
       "    </tr>\n",
       "    <tr>\n",
       "      <th>10</th>\n",
       "      <td>Python开发工程师</td>\n",
       "      <td>上海华铭智能终端设备股份有限公司</td>\n",
       "      <td></td>\n",
       "      <td>本科</td>\n",
       "    </tr>\n",
       "    <tr>\n",
       "      <th>11</th>\n",
       "      <td>Python开发工程师</td>\n",
       "      <td>壹沓科技（上海）有限公司</td>\n",
       "      <td></td>\n",
       "      <td>本科</td>\n",
       "    </tr>\n",
       "    <tr>\n",
       "      <th>12</th>\n",
       "      <td>Python 开发工程师</td>\n",
       "      <td>广州市西美信息科技有限公司</td>\n",
       "      <td>五险一金 绩效奖金 专业培训 弹性工作 员工旅游 周末双休 餐饮补贴</td>\n",
       "      <td>本科</td>\n",
       "    </tr>\n",
       "    <tr>\n",
       "      <th>13</th>\n",
       "      <td>Python开发工程师</td>\n",
       "      <td>伦伟实业</td>\n",
       "      <td>五险一金 交通补贴 年终奖金 带薪年假 绩效奖金 节日福利</td>\n",
       "      <td>大专</td>\n",
       "    </tr>\n",
       "    <tr>\n",
       "      <th>14</th>\n",
       "      <td>Python开发工程师</td>\n",
       "      <td>广东博士科技有限公司</td>\n",
       "      <td>五险一金 交通补贴 年终奖金 绩效奖金</td>\n",
       "      <td>本科</td>\n",
       "    </tr>\n",
       "    <tr>\n",
       "      <th>15</th>\n",
       "      <td>Python高级开发工程师</td>\n",
       "      <td>道富信息科技（浙江）有限公司</td>\n",
       "      <td>五险一金 补充医疗保险 免费班车 交通补贴 餐饮补贴 通讯补贴 专业培训 弹性工作 年终奖金</td>\n",
       "      <td>本科</td>\n",
       "    </tr>\n",
       "    <tr>\n",
       "      <th>16</th>\n",
       "      <td>Python开发工程师(J11836)</td>\n",
       "      <td>东北证券股份有限公司</td>\n",
       "      <td></td>\n",
       "      <td>本科</td>\n",
       "    </tr>\n",
       "    <tr>\n",
       "      <th>17</th>\n",
       "      <td>软件工程师（Python/GUI）</td>\n",
       "      <td>澜起科技股份有限公司</td>\n",
       "      <td>五险一金 员工旅游 餐饮补贴 年终奖金 定期体检</td>\n",
       "      <td>本科</td>\n",
       "    </tr>\n",
       "    <tr>\n",
       "      <th>18</th>\n",
       "      <td>Python开发工程师</td>\n",
       "      <td>广东大冶摩托车技术有限公司</td>\n",
       "      <td>五险一金 员工旅游 年终奖金 绩效奖金 包三餐 包住宿 带薪年假 全勤奖</td>\n",
       "      <td>本科</td>\n",
       "    </tr>\n",
       "    <tr>\n",
       "      <th>19</th>\n",
       "      <td>全栈开发 （Java，python）</td>\n",
       "      <td>PwC 普华永道</td>\n",
       "      <td></td>\n",
       "      <td>本科</td>\n",
       "    </tr>\n",
       "    <tr>\n",
       "      <th>20</th>\n",
       "      <td>Python开发工程师(J13291)</td>\n",
       "      <td>福建博思软件股份有限公司</td>\n",
       "      <td>五险一金 补充公积金 员工旅游 交通补贴 餐饮补贴 通讯补贴 年终奖金 定期体检</td>\n",
       "      <td>本科</td>\n",
       "    </tr>\n",
       "    <tr>\n",
       "      <th>21</th>\n",
       "      <td>后端Python开发工程师</td>\n",
       "      <td>浙江禾川科技股份有限公司</td>\n",
       "      <td></td>\n",
       "      <td>本科</td>\n",
       "    </tr>\n",
       "    <tr>\n",
       "      <th>22</th>\n",
       "      <td>Python开发工程师</td>\n",
       "      <td>中科创达软件股份有限公司</td>\n",
       "      <td>五险一金 定期体检 餐饮补贴 专业培训 弹性工作</td>\n",
       "      <td>大专</td>\n",
       "    </tr>\n",
       "    <tr>\n",
       "      <th>23</th>\n",
       "      <td>Python开发工程师</td>\n",
       "      <td>浩鲸云计算科技股份有限公司</td>\n",
       "      <td></td>\n",
       "      <td>本科</td>\n",
       "    </tr>\n",
       "    <tr>\n",
       "      <th>24</th>\n",
       "      <td>Python开发</td>\n",
       "      <td>成都聚思力信息技术有限公司</td>\n",
       "      <td>周末双休 带薪年假 五险一金</td>\n",
       "      <td>本科</td>\n",
       "    </tr>\n",
       "    <tr>\n",
       "      <th>25</th>\n",
       "      <td>Python开发工程师（成都）</td>\n",
       "      <td>上海华讯网络系统有限公司</td>\n",
       "      <td>五险一金 补充医疗保险 补充公积金 交通补贴 通讯补贴 专业培训 绩效奖金 定期体检</td>\n",
       "      <td>本科</td>\n",
       "    </tr>\n",
       "    <tr>\n",
       "      <th>26</th>\n",
       "      <td>Python开发工程师</td>\n",
       "      <td>成都迈思信息技术有限公司</td>\n",
       "      <td>五险一金 年终奖金 弹性工作</td>\n",
       "      <td>本科</td>\n",
       "    </tr>\n",
       "    <tr>\n",
       "      <th>27</th>\n",
       "      <td>Python高级开发工程师</td>\n",
       "      <td>博彦科技股份有限公司</td>\n",
       "      <td>五险一金 专业培训 弹性工作 定期体检 年终奖金</td>\n",
       "      <td>本科</td>\n",
       "    </tr>\n",
       "    <tr>\n",
       "      <th>28</th>\n",
       "      <td>Python开发工程师/500强/双休/不加班</td>\n",
       "      <td>纬创软件（武汉）有限公司</td>\n",
       "      <td>年终奖金 定期体检 员工旅游 员工体检 员工生日会 部门团建 六险一金</td>\n",
       "      <td>大专</td>\n",
       "    </tr>\n",
       "    <tr>\n",
       "      <th>29</th>\n",
       "      <td>研发工程师（python）(J12961）</td>\n",
       "      <td>视联动力信息技术股份有限公司</td>\n",
       "      <td>五险一金 补充医疗保险 通讯补贴 电脑补助 员工旅游 绩效奖金 定期体检</td>\n",
       "      <td>本科</td>\n",
       "    </tr>\n",
       "    <tr>\n",
       "      <th>30</th>\n",
       "      <td>Python &amp; C++ Developer</td>\n",
       "      <td>瑞银企业管理（中国）有限公司</td>\n",
       "      <td>五险一金 年终奖金 出国机会 补充医疗保险</td>\n",
       "      <td>本科</td>\n",
       "    </tr>\n",
       "    <tr>\n",
       "      <th>31</th>\n",
       "      <td>Python开发工程师</td>\n",
       "      <td>杭州三汇数字信息技术有限公司</td>\n",
       "      <td>五险一金 交通补贴 餐饮补贴 年终奖金 定期体检 员工旅游</td>\n",
       "      <td>本科</td>\n",
       "    </tr>\n",
       "    <tr>\n",
       "      <th>32</th>\n",
       "      <td>软件开发工程师-python</td>\n",
       "      <td>杭州宏杉科技股份有限公司</td>\n",
       "      <td>五险一金 带薪年假 专业培训 年终奖金 补充医疗保险 节日福利 育儿假 定期体检</td>\n",
       "      <td>本科</td>\n",
       "    </tr>\n",
       "    <tr>\n",
       "      <th>33</th>\n",
       "      <td>Python开发工程师 s</td>\n",
       "      <td>紫光云数科技有限公司</td>\n",
       "      <td></td>\n",
       "      <td>本科</td>\n",
       "    </tr>\n",
       "    <tr>\n",
       "      <th>34</th>\n",
       "      <td>Python 高级软件工程师</td>\n",
       "      <td>上海国微思尔芯技术股份有限公司</td>\n",
       "      <td>五险一金 弹性工作 股票期权 年终奖金 餐饮补贴 绩效奖金</td>\n",
       "      <td>本科</td>\n",
       "    </tr>\n",
       "    <tr>\n",
       "      <th>35</th>\n",
       "      <td>Python开发工程师</td>\n",
       "      <td>紫光云数科技有限公司</td>\n",
       "      <td>五险一金 交通补贴 餐饮补贴 绩效奖金 年终奖金 定期体检 商业保险 生日礼金 过节费</td>\n",
       "      <td>本科</td>\n",
       "    </tr>\n",
       "    <tr>\n",
       "      <th>36</th>\n",
       "      <td>Python开发工程师(J12915)</td>\n",
       "      <td>北京天融信网络安全技术有限公司</td>\n",
       "      <td>五险一金 补充医疗保险 专业培训 通讯补贴 交通补贴 绩效奖金 弹性工作</td>\n",
       "      <td>本科</td>\n",
       "    </tr>\n",
       "    <tr>\n",
       "      <th>37</th>\n",
       "      <td>海淀区-Python开发工程师</td>\n",
       "      <td>武汉光庭信息技术股份有限公司</td>\n",
       "      <td>五险一金 补充医疗保险 年终奖金 定期体检 节日福利</td>\n",
       "      <td>本科</td>\n",
       "    </tr>\n",
       "    <tr>\n",
       "      <th>38</th>\n",
       "      <td>软件开发中级工程师（Python）</td>\n",
       "      <td>福建新大陆软件工程有限公司</td>\n",
       "      <td>五险一金 交通补贴 通讯补贴 专业培训 绩效奖金 年终奖金 定期体检 免费班车</td>\n",
       "      <td>本科</td>\n",
       "    </tr>\n",
       "    <tr>\n",
       "      <th>39</th>\n",
       "      <td>java/Python软件工程师</td>\n",
       "      <td>四川长虹网络科技有限责任公司</td>\n",
       "      <td>五险一金 补充医疗保险 员工旅游 专业培训 绩效奖金 年终奖金 定期体检 弹性工作 餐饮补贴...</td>\n",
       "      <td>本科</td>\n",
       "    </tr>\n",
       "    <tr>\n",
       "      <th>40</th>\n",
       "      <td>Python工程师(J10154)</td>\n",
       "      <td>浙江诺诺网络科技有限公司</td>\n",
       "      <td>五险一金 弹性工作 年终奖金 加班晚餐</td>\n",
       "      <td>本科</td>\n",
       "    </tr>\n",
       "    <tr>\n",
       "      <th>41</th>\n",
       "      <td>Python工程师</td>\n",
       "      <td>重庆傲雄在线信息技术有限公司</td>\n",
       "      <td>餐饮补贴 年终奖金 周末双休 五险一金 做五休二 节日福利</td>\n",
       "      <td>大专</td>\n",
       "    </tr>\n",
       "    <tr>\n",
       "      <th>42</th>\n",
       "      <td>Python高级研发工程师</td>\n",
       "      <td>四川长虹电器股份有限公司</td>\n",
       "      <td>周末双休 绩效奖金 五险一金 带薪年假 餐饮补贴</td>\n",
       "      <td>本科</td>\n",
       "    </tr>\n",
       "    <tr>\n",
       "      <th>43</th>\n",
       "      <td>Python开发工程师</td>\n",
       "      <td>中盈优创资讯科技有限公司</td>\n",
       "      <td>绩效奖金 五险一金 节日福利 通讯补贴</td>\n",
       "      <td>本科</td>\n",
       "    </tr>\n",
       "    <tr>\n",
       "      <th>44</th>\n",
       "      <td>Python开发工程师</td>\n",
       "      <td>思佰益必智信息技术（大连）有限公司</td>\n",
       "      <td></td>\n",
       "      <td>本科</td>\n",
       "    </tr>\n",
       "    <tr>\n",
       "      <th>45</th>\n",
       "      <td>Python开发工程师</td>\n",
       "      <td>鼎桥通信技术有限公司</td>\n",
       "      <td>五险一金 弹性工作 补充医疗保险 定期体检 补充公积金 专业培训 员工旅游 绩效奖金 年终奖...</td>\n",
       "      <td>本科</td>\n",
       "    </tr>\n",
       "    <tr>\n",
       "      <th>46</th>\n",
       "      <td>Python工程师</td>\n",
       "      <td>博彦科技（深圳）有限公司</td>\n",
       "      <td>五险一金 员工旅游 交通补贴 餐饮补贴 绩效奖金 13薪</td>\n",
       "      <td>本科</td>\n",
       "    </tr>\n",
       "    <tr>\n",
       "      <th>47</th>\n",
       "      <td>Python开发工程师（深圳）</td>\n",
       "      <td>诚迈科技（南京）股份有限公司</td>\n",
       "      <td>五险一金 周末双休 弹性工作 节日福利 带薪年假</td>\n",
       "      <td>大专</td>\n",
       "    </tr>\n",
       "    <tr>\n",
       "      <th>48</th>\n",
       "      <td>RPA工程师（Python，机器人流程自动化）</td>\n",
       "      <td>北京南天软件有限公司</td>\n",
       "      <td></td>\n",
       "      <td>本科</td>\n",
       "    </tr>\n",
       "    <tr>\n",
       "      <th>49</th>\n",
       "      <td>python</td>\n",
       "      <td>北京信安世纪科技股份有限公司</td>\n",
       "      <td>五险一金 餐饮补贴 带薪年假 通讯补贴 周末双休 节日福利 专业培训 补充医疗保险 定期体检</td>\n",
       "      <td>本科</td>\n",
       "    </tr>\n",
       "  </tbody>\n",
       "</table>\n",
       "</div>"
      ],
      "text/plain": [
       "                  Jobs Name     Companies Name  \\\n",
       "0             Python软件开发工程师        江门市安豪贸易有限公司   \n",
       "1             Python开发高级工程师         广东众图科技有限公司   \n",
       "2                Python开发助理        深圳市一苣技术有限公司   \n",
       "3                 Python架构师        深圳市云盾科技有限公司   \n",
       "4               python 爬虫开发        青岛同济孵化器有限公司   \n",
       "5         （产研二部）python后端工程师      浙江木链物联网科技有限公司   \n",
       "6             Python爬虫开发工程师   深圳市前海房极客网络科技有限公司   \n",
       "7    PYTHON开发工程师（年底双薪+五险一金）       广州烽云信息科技有限公司   \n",
       "8               Python开发工程师       易宝软件（东莞）有限公司   \n",
       "9               Python开发工程师    东莞市找大状互联网技术有限公司   \n",
       "10              Python开发工程师   上海华铭智能终端设备股份有限公司   \n",
       "11              Python开发工程师       壹沓科技（上海）有限公司   \n",
       "12             Python 开发工程师      广州市西美信息科技有限公司   \n",
       "13              Python开发工程师               伦伟实业   \n",
       "14              Python开发工程师         广东博士科技有限公司   \n",
       "15            Python高级开发工程师     道富信息科技（浙江）有限公司   \n",
       "16      Python开发工程师(J11836)         东北证券股份有限公司   \n",
       "17        软件工程师（Python/GUI）         澜起科技股份有限公司   \n",
       "18              Python开发工程师      广东大冶摩托车技术有限公司   \n",
       "19       全栈开发 （Java，python）           PwC 普华永道   \n",
       "20      Python开发工程师(J13291)       福建博思软件股份有限公司   \n",
       "21            后端Python开发工程师       浙江禾川科技股份有限公司   \n",
       "22              Python开发工程师       中科创达软件股份有限公司   \n",
       "23              Python开发工程师      浩鲸云计算科技股份有限公司   \n",
       "24                 Python开发      成都聚思力信息技术有限公司   \n",
       "25          Python开发工程师（成都）       上海华讯网络系统有限公司   \n",
       "26              Python开发工程师       成都迈思信息技术有限公司   \n",
       "27            Python高级开发工程师         博彦科技股份有限公司   \n",
       "28  Python开发工程师/500强/双休/不加班       纬创软件（武汉）有限公司   \n",
       "29    研发工程师（python）(J12961）     视联动力信息技术股份有限公司   \n",
       "30   Python & C++ Developer     瑞银企业管理（中国）有限公司   \n",
       "31              Python开发工程师     杭州三汇数字信息技术有限公司   \n",
       "32           软件开发工程师-python       杭州宏杉科技股份有限公司   \n",
       "33            Python开发工程师 s         紫光云数科技有限公司   \n",
       "34           Python 高级软件工程师    上海国微思尔芯技术股份有限公司   \n",
       "35              Python开发工程师         紫光云数科技有限公司   \n",
       "36      Python开发工程师(J12915)    北京天融信网络安全技术有限公司   \n",
       "37          海淀区-Python开发工程师     武汉光庭信息技术股份有限公司   \n",
       "38        软件开发中级工程师（Python）      福建新大陆软件工程有限公司   \n",
       "39         java/Python软件工程师     四川长虹网络科技有限责任公司   \n",
       "40        Python工程师(J10154)       浙江诺诺网络科技有限公司   \n",
       "41                Python工程师     重庆傲雄在线信息技术有限公司   \n",
       "42            Python高级研发工程师       四川长虹电器股份有限公司   \n",
       "43              Python开发工程师       中盈优创资讯科技有限公司   \n",
       "44              Python开发工程师  思佰益必智信息技术（大连）有限公司   \n",
       "45              Python开发工程师         鼎桥通信技术有限公司   \n",
       "46                Python工程师       博彦科技（深圳）有限公司   \n",
       "47          Python开发工程师（深圳）     诚迈科技（南京）股份有限公司   \n",
       "48  RPA工程师（Python，机器人流程自动化）         北京南天软件有限公司   \n",
       "49                   python     北京信安世纪科技股份有限公司   \n",
       "\n",
       "                                              Welfare Education  \n",
       "0                       五险一金 绩效奖金 专业培训 定期体检 员工旅游 月休6天        大专  \n",
       "1                  五险一金 周末双休 带薪年假 专业培训 绩效奖金 团队聚餐 员工旅游        大专  \n",
       "2      五险一金 补充医疗保险 员工旅游 交通补贴 绩效奖金 年终奖金 弹性工作 定期体检 周末双休        大专  \n",
       "3                  五险一金 绩效奖金 股票期权 年终奖金 餐饮补贴 通讯补贴 带薪年假        本科  \n",
       "4                  五险一金 年终奖金 绩效奖金 年终分红 餐饮补贴 带薪年假 周末双休        本科  \n",
       "5                                 五险一金 专业培训 绩效奖金 年终奖金        本科  \n",
       "6                                      股票期权 弹性工作 五险一金        大专  \n",
       "7   五险一金 周末双休 带薪年假 全勤奖 节日福利 通讯补贴 交通补贴 补充医疗保险 员工旅游 ...        本科  \n",
       "8                                                            本科  \n",
       "9                                                            本科  \n",
       "10                                                           本科  \n",
       "11                                                           本科  \n",
       "12                 五险一金 绩效奖金 专业培训 弹性工作 员工旅游 周末双休 餐饮补贴        本科  \n",
       "13                      五险一金 交通补贴 年终奖金 带薪年假 绩效奖金 节日福利        大专  \n",
       "14                                五险一金 交通补贴 年终奖金 绩效奖金        本科  \n",
       "15     五险一金 补充医疗保险 免费班车 交通补贴 餐饮补贴 通讯补贴 专业培训 弹性工作 年终奖金        本科  \n",
       "16                                                           本科  \n",
       "17                           五险一金 员工旅游 餐饮补贴 年终奖金 定期体检        本科  \n",
       "18               五险一金 员工旅游 年终奖金 绩效奖金 包三餐 包住宿 带薪年假 全勤奖        本科  \n",
       "19                                                           本科  \n",
       "20           五险一金 补充公积金 员工旅游 交通补贴 餐饮补贴 通讯补贴 年终奖金 定期体检        本科  \n",
       "21                                                           本科  \n",
       "22                           五险一金 定期体检 餐饮补贴 专业培训 弹性工作        大专  \n",
       "23                                                           本科  \n",
       "24                                     周末双休 带薪年假 五险一金        本科  \n",
       "25         五险一金 补充医疗保险 补充公积金 交通补贴 通讯补贴 专业培训 绩效奖金 定期体检        本科  \n",
       "26                                     五险一金 年终奖金 弹性工作        本科  \n",
       "27                           五险一金 专业培训 弹性工作 定期体检 年终奖金        本科  \n",
       "28                年终奖金 定期体检 员工旅游 员工体检 员工生日会 部门团建 六险一金        大专  \n",
       "29               五险一金 补充医疗保险 通讯补贴 电脑补助 员工旅游 绩效奖金 定期体检        本科  \n",
       "30                              五险一金 年终奖金 出国机会 补充医疗保险        本科  \n",
       "31                      五险一金 交通补贴 餐饮补贴 年终奖金 定期体检 员工旅游        本科  \n",
       "32           五险一金 带薪年假 专业培训 年终奖金 补充医疗保险 节日福利 育儿假 定期体检        本科  \n",
       "33                                                           本科  \n",
       "34                      五险一金 弹性工作 股票期权 年终奖金 餐饮补贴 绩效奖金        本科  \n",
       "35        五险一金 交通补贴 餐饮补贴 绩效奖金 年终奖金 定期体检 商业保险 生日礼金 过节费        本科  \n",
       "36               五险一金 补充医疗保险 专业培训 通讯补贴 交通补贴 绩效奖金 弹性工作        本科  \n",
       "37                         五险一金 补充医疗保险 年终奖金 定期体检 节日福利        本科  \n",
       "38            五险一金 交通补贴 通讯补贴 专业培训 绩效奖金 年终奖金 定期体检 免费班车        本科  \n",
       "39  五险一金 补充医疗保险 员工旅游 专业培训 绩效奖金 年终奖金 定期体检 弹性工作 餐饮补贴...        本科  \n",
       "40                                五险一金 弹性工作 年终奖金 加班晚餐        本科  \n",
       "41                      餐饮补贴 年终奖金 周末双休 五险一金 做五休二 节日福利        大专  \n",
       "42                           周末双休 绩效奖金 五险一金 带薪年假 餐饮补贴        本科  \n",
       "43                                绩效奖金 五险一金 节日福利 通讯补贴        本科  \n",
       "44                                                           本科  \n",
       "45  五险一金 弹性工作 补充医疗保险 定期体检 补充公积金 专业培训 员工旅游 绩效奖金 年终奖...        本科  \n",
       "46                       五险一金 员工旅游 交通补贴 餐饮补贴 绩效奖金 13薪        本科  \n",
       "47                           五险一金 周末双休 弹性工作 节日福利 带薪年假        大专  \n",
       "48                                                           本科  \n",
       "49     五险一金 餐饮补贴 带薪年假 通讯补贴 周末双休 节日福利 专业培训 补充医疗保险 定期体检        本科  "
      ]
     },
     "execution_count": 8,
     "metadata": {},
     "output_type": "execute_result"
    }
   ],
   "source": [
    "dict = {'Jobs Name':jobs_name, 'Companies Name':companies_name, 'Welfare':welfare, 'Education':education}\n",
    "df = pd.DataFrame(dict)\n",
    "df"
   ]
  },
  {
   "cell_type": "code",
   "execution_count": 9,
   "id": "6e3972b2-1689-43ff-a19a-101f1276bdf2",
   "metadata": {},
   "outputs": [],
   "source": [
    "df.to_csv('51job_python_xpath.csv',encoding='gbk')"
   ]
  },
  {
   "cell_type": "code",
   "execution_count": null,
   "id": "4921e7c0-8c99-4c85-bcd5-9834e5f6bf4b",
   "metadata": {},
   "outputs": [],
   "source": []
  }
 ],
 "metadata": {
  "kernelspec": {
   "display_name": "Python 3 (ipykernel)",
   "language": "python",
   "name": "python3"
  },
  "language_info": {
   "codemirror_mode": {
    "name": "ipython",
    "version": 3
   },
   "file_extension": ".py",
   "mimetype": "text/x-python",
   "name": "python",
   "nbconvert_exporter": "python",
   "pygments_lexer": "ipython3",
   "version": "3.9.7"
  }
 },
 "nbformat": 4,
 "nbformat_minor": 5
}
