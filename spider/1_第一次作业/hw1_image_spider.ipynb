{
 "cells": [
  {
   "cell_type": "code",
   "execution_count": 8,
   "id": "319e0630-50d8-4ed5-9ff0-11e6f8210219",
   "metadata": {},
   "outputs": [],
   "source": [
    "import requests\n",
    "\n",
    "cookies = {\n",
    "    'MUID': '0164475ED2A76510223D4840D3D86432',\n",
    "    'SRCHD': 'AF=NOFORM',\n",
    "    'SRCHUID': 'V=2&GUID=63CC47581166431A9AA32284C7EC48D0&dmnchg=1',\n",
    "    '_tarLang': 'default=en',\n",
    "    '_TTSS_IN': 'hist=WyJ6aC1IYW5zIiwiYXV0by1kZXRlY3QiXQ==',\n",
    "    '_TTSS_OUT': 'hist=WyJlbiJd',\n",
    "    '_ITAB': 'STAB=TR',\n",
    "    'imgv': 'flts=20201226',\n",
    "    'BFBUSR': 'BAWAS=1&BAWFS=0',\n",
    "    '_RwBf': 'mtu=0&g=0&cid=&o=2&p=&c=&t=0&s=0001-01-01T00:00:00.0000000+00:00&ts=2021-12-03T16:15:29.0031572+00:00&ssg=0&ilt=7&ihpd=2&ispd=0&v=2&l=2021-12-03T08:00:00.0000000Z&rwred=0&rc=0&rb=0&gb=0&rg=0&pc=0&rbb=0&lft=00010101&aof=0',\n",
    "    'ABDEF': 'V=13&ABDV=13&MRB=1639704647631&MRNB=0',\n",
    "    'ANON': 'A=CB021C48B3A3D189A3230611FFFFFFFF&E=1aa8&W=1',\n",
    "    'NAP': 'V=1.9&E=1a17&C=MCw692RyvM3lc7uFyAZdrV_pMbyFRXW6IY2-8cZotWtZS1Yg2f5QEQ&W=1',\n",
    "    'MUIDB': '0164475ED2A76510223D4840D3D86432',\n",
    "    'BFB': 'AhAxAaKdfdKsnTYLryVvDZ-wfHW1gp5p_gSYqR6tU6Yf3WBAGM5aneidShJKtQwakcwRlX0mq3wgZCkAfj8x_35NThTygCtUezetVsXwZXJDrtguVeRw6X2Umy_EDWa5TC0SqVTGlSt5TwF2fYjxA9xXxng-NTe2vMv-cuEkrWzTrA',\n",
    "    '_EDGE_S': 'SID=32FFA3BF67EE68DE09A5B2C066886965',\n",
    "    'SUID': 'A',\n",
    "    '_SS': 'SID=32FFA3BF67EE68DE09A5B2C066886965',\n",
    "    '_UR': 'QS=0&TQS=0',\n",
    "    'OID': 'AhCO5mgQ-8Nr9Jfkwgt6jEA_3ByPngtR-RKdC6CyC1S0NVFYbla1-W3OP9Jcz6Fjyfb-p7ObV5cdnh70mpSXtceJynsfAhIVSy2Y_KlHyKnf3RNT__0Gq5VzIhiApyIGz0kIP6YSFt6FnTRebjbi8A-3',\n",
    "    'OIDI': 'ghCU_qb4abOL8_e_hylg2tCs4IWQOSMteu0nTyQEalaLp_q4PODnrpf30iUpPfbKBxA70xnOXwC4i2vOyV3uk672U7_jGAzustIe8i62telw_orqv6-RnQmGyttbJKT-3CtnalWREW5P_AcLMD2ksZLrp8nKgRzcr8ToRkVFCeX3ZkXfWGC3HsQYsGHSB_P0Y1zFLRVIMqAPqOk_MangBiKGTJiwg89CKmGSKNOaYUctIpr2TbXhepIq8RYJfQGLokaHzxBf_MzUa4ySjU7r194bkhQxt-HRwRhAnlEAMhW9qv9do3_VyKSh84gLWzeb2TYCCbzm3SyIlx7FWg_Cn6mmdUHh1SfyOGlScd1hkjNu5YqSPx4881IbbeJz_e8JCz6uHYQZvUVXpTjYDWOnBHoZvPxIhB4OGRLPtYoMBVSvDc1jBPXQPHyI3RtrTjiTIDB5CnqVj6-OZhCTjeI6f76VWuCRaJzpu87F9htVuEyk25ZsK-9Gvgi6LxGsqi7cpdgsNeNPJvgfLN61dYnf3lAaXzdOhsST8EZaoEuSKwpyz_GkL0Ud5oF4KN0fvfbN-7gU8NIzNRMcMgSn4pl_xmgXNl5wRJbdOIX6tdt2zf8hHXxsbHbSAnU9axk3gaqefyrIHP51AbaXr-QXts1NCKeBETB8PaCl2GVdeiPA_zRyqUq1MV2YBOpDd8XJe_Tg9NM9VdE6EUdW8oJ67HpSlHT831nwBc7fkFHD2CU8GDX2zyHpgK_kZ4U8vQRXxA4JZD-vRsjjXClkQTTxmLBq2zzWwWk2UlyigjVS1xKWK12ZEAujhgnwFN35WfbBFuOTTbqN74zwNL8ck6_LUSAZiXzPTN5QJNj0qzKH7CZR0-0Ixq3dHTKSA6JmLN-hgtFQF8A9mvQwX93BjEyNt6ksTwahgIsm0-eW9-9umt5Dp3Z92utb97lHJ80kuzpUEX3j2uPtpwckR6LrT7vpNhIqpZ80s7d1SC6x5Biff4_v_-dWSY7rzNUDsIgoDYfKPHr7qTGVZOoJ_rxZm7Hrxp_yx7zVRP7wPqQLaqQW_fbT_WCyNfwFhl4er1hlPogxhT3Bo0ovk9bOjm9hdsY0m6yho4tu9If-azrbHQpnIgl5V5BuiPpE9Myc5gmquHVJrMhuvM8K8dh7zIwyaDtKwbanEUimvyPK2c-TD8LbnjyGl0ByRv5-lS92ZLPtmS3c5F7dnlDUkC_Ub6ZvgbhnkNsYOrkdfsT-HtcoTEALMM7UJX0KBFzL7xyH_lnsQvJ-7KQWYx_BVV8lkTvsRZ2_rwv29iWc_wFnJnj3I3gNUseMipaEIu3dGG-emjjdcmgHn8hBGEIlQJXPGO48Og2g8Qu8OMYuwWZHnCecYk37uXN-Cl-_CHPHc4ZrX5gfXzgVUeMj1Ky2vpSiu7BdGocD9s3iyHQPi14dXfYlqpaZQYJ9ecDY6hhALs_Qk9aMRaqll_kz9TmlP0DXrpJV9QSBb-FQ-g04TMYgoFG20AumLYTXgihMlJKepLemIAfrwajSMw_YIUvTXPQFyaCcu5Mvlgk-x2-oeUSjL0FUUeAdXL83lDY0xBJVzsRBQxOtFAskxMib0ck_Kl0FMM1A5oX0W6wn8pVWVVIrCFaWZNAV2MOND8xkY3qOGJejuRg7t1x8sHHFc9Ct3IgHFHlotgVnwroKAB4Dx8l-Ry_fDzTOxDRvQguDayVng7ggpMZaVQj3PiltsvXAZMiK2oXfhd1KJS2h3FoFNNinohjWI1ErwrPy8DZ07UO7xFp4cm3goRmp7rJAanW-ILArnbVHxjn6aD-ocrOeT3TnZG45zmHXXUxj1lMlXTDF6Mi7LcQFMHL18tRO8b4xsavS8TFaDuKCPbDSq4p_hpHbb566C5_XWc-NCYVMeNbK-Qw0Ao2yj78Ka56YT8011uWL_fXBz_5_51rt6CmdpKTltlX-c2L9yQvpTDit7DBAAmaM3oNpaiGQ0jlt9l2dHHz1uSW3rLs1mjtHC7Si',\n",
    "    'OIDR': 'ghC6-TjjH-dlSEjMoUW5_TQ6bFJOUMVf1ZEGmUgluexgLRHYtr40uIC9cBkuzkd4b2XKCQ4Xh-3-f_m31PtJHvTA4Yv6Z2piV_-xLn6n9w08ghxI4B4061i0_y6TJBWsgC9NH5B7cme3FPchOZBGQR_fLPlLv-FM-JpUngSCMKx-LbA9G8gYC7ILichm51DCpT4br-U9zKpczhZdXBU73yBzf8b9b_VBhrOWX7o7qTDBA8S8v7J8BFa7ukZqW7GOKcr2JP0ri_M1sbQVfoGjRxOL2iejHnfbfiWklTiqCyzY0JUf-fhT6VsFwAW05NoNG2EwF6eJxPnX_6BFwi9iqCBowzUhOGZGpqA7tyVP0KFEXDA5tIAAK8OvxWT9FsqzQJa8fLSlX4yaQIY5kAbVFqYFXU6sdue4eGmkB5ki_rFhg8oUGD0wojCJQaa9uSmgkW-XpuTjd1TqC0Ueqogd6ZWDxxNT4TFsA-MpTJw6G5cQyTSnJs3nP8OPhiJlsXIjSWSEEL4zFNeH7E70Fy2pbrf_PEBLGI_8l9vBZ9Zs9-omfWdZhhEkbNzeFjKLFPdT_OKw0brxvA3nBACCowtohv1syPoUhar7gUwZIS7zvTT_oPr5vssbE4WEwKmZ9qjwtLZQKBKQheXzahOAf7rZgBnaaX5kYJQ5scH5T0LwuMEnrDE93YAcInLVMesi_pog-ndxcrPxC6wcUFNpewzLX3GwOENJRoVq33DyFdPEC4ksHtsMhtPLJD06J7IfnKbXUwc1YCqEicIi7-b48QloYNUxebYPp1lwSASPpJ0gZCwDsjtSI_cTemUbEV8NvKaDgfBJ5sak2Arjv1vtytI3bCCm6tXIFH92ilcDc6Sz5-ydmrHRm6pcdaGJc7wToKMdjzd1fTexKBmidooLetfVpuA1_dJMNeFxf-yqyh7QRBFQZePiTFOluhamzyu683RXckX6GImuH2ezgwDXlr2aKh6KKjdgZfIUoPl6P1i0jVwjago3dYgSP5BZxNet8twglQhjbMw7SCgACqSal5sjGgS-xYgoSh9k1ZX4Poj3CeqQxPPW8RVRsbC5mUKjE0b26GEsCjUVfqTVpaaErCmTvkRo7D_8ToYcaEYR9kWvycbzKZn3QVBM53sxtjWwhzNtaXDxZwSFP4loP5xNCj-TYddgD6rSbMiXus4r1WLEw7gCYj1s_vlA1q04GXS8UpcWqQemIAk5EFJB5LwOJM5Atwz9',\n",
    "    'ipv6': 'hit=1649340963687&t=4',\n",
    "    'SRCHUSR': 'DOB=20200808&T=1634487921000&TPC=1649337368000&POEX=O',\n",
    "    'SNRHOP': 'I=&TS=',\n",
    "    'SRCHHPGUSR': 'SRCHLANG=zh-Hans&BRW=M&BRH=T&CW=1301&CH=1054&SW=2304&SH=1296&DPR=2&UTC=480&DM=1&HV=1649337396&BZA=0',\n",
    "    '_HPVN': 'CS=eyJQbiI6eyJDbiI6MTUsIlN0IjoyLCJRcyI6MCwiUHJvZCI6IlAifSwiU2MiOnsiQ24iOjE1LCJTdCI6MCwiUXMiOjAsIlByb2QiOiJIIn0sIlF6Ijp7IkNuIjoxNSwiU3QiOjEsIlFzIjowLCJQcm9kIjoiVCJ9LCJBcCI6dHJ1ZSwiTXV0ZSI6dHJ1ZSwiTGFkIjoiMjAyMi0wNC0wN1QwMDowMDowMFoiLCJJb3RkIjowLCJHd2IiOjAsIkRmdCI6bnVsbCwiTXZzIjowLCJGbHQiOjAsIkltcCI6NjV9',\n",
    "}\n",
    "\n",
    "headers = {\n",
    "    'authority': 'cn.bing.com',\n",
    "    'pragma': 'no-cache',\n",
    "    'cache-control': 'no-cache',\n",
    "    'sec-ch-ua': '\" Not A;Brand\";v=\"99\", \"Chromium\";v=\"99\", \"Google Chrome\";v=\"99\"',\n",
    "    'content-type': 'application/json',\n",
    "    'sec-ch-ua-mobile': '?0',\n",
    "    'user-agent': 'Mozilla/5.0 (Macintosh; Intel Mac OS X 10_15_7) AppleWebKit/537.36 (KHTML, like Gecko) Chrome/99.0.4844.84 Safari/537.36',\n",
    "    'sec-ch-ua-arch': '\"x86\"',\n",
    "    'sec-ch-ua-full-version': '\"99.0.4844.84\"',\n",
    "    'sec-ch-ua-platform-version': '\"12.3.1\"',\n",
    "    'sec-ch-ua-bitness': '\"64\"',\n",
    "    'sec-ch-ua-platform': '\"macOS\"',\n",
    "    'accept': '*/*',\n",
    "    'sec-fetch-site': 'same-origin',\n",
    "    'sec-fetch-mode': 'cors',\n",
    "    'sec-fetch-dest': 'empty',\n",
    "    'referer': 'https://cn.bing.com/?FORM=Z9FD1',\n",
    "    'accept-language': 'zh-CN,zh;q=0.9,en-US;q=0.8,en;q=0.7,zh-TW;q=0.6',\n",
    "    # Requests sorts cookies= alphabetically\n",
    "    # 'cookie': 'MUID=0164475ED2A76510223D4840D3D86432; SRCHD=AF=NOFORM; SRCHUID=V=2&GUID=63CC47581166431A9AA32284C7EC48D0&dmnchg=1; _tarLang=default=en; _TTSS_IN=hist=WyJ6aC1IYW5zIiwiYXV0by1kZXRlY3QiXQ==; _TTSS_OUT=hist=WyJlbiJd; _ITAB=STAB=TR; imgv=flts=20201226; BFBUSR=BAWAS=1&BAWFS=0; _RwBf=mtu=0&g=0&cid=&o=2&p=&c=&t=0&s=0001-01-01T00:00:00.0000000+00:00&ts=2021-12-03T16:15:29.0031572+00:00&ssg=0&ilt=7&ihpd=2&ispd=0&v=2&l=2021-12-03T08:00:00.0000000Z&rwred=0&rc=0&rb=0&gb=0&rg=0&pc=0&rbb=0&lft=00010101&aof=0; ABDEF=V=13&ABDV=13&MRB=1639704647631&MRNB=0; ANON=A=CB021C48B3A3D189A3230611FFFFFFFF&E=1aa8&W=1; NAP=V=1.9&E=1a17&C=MCw692RyvM3lc7uFyAZdrV_pMbyFRXW6IY2-8cZotWtZS1Yg2f5QEQ&W=1; MUIDB=0164475ED2A76510223D4840D3D86432; BFB=AhAxAaKdfdKsnTYLryVvDZ-wfHW1gp5p_gSYqR6tU6Yf3WBAGM5aneidShJKtQwakcwRlX0mq3wgZCkAfj8x_35NThTygCtUezetVsXwZXJDrtguVeRw6X2Umy_EDWa5TC0SqVTGlSt5TwF2fYjxA9xXxng-NTe2vMv-cuEkrWzTrA; _EDGE_S=SID=32FFA3BF67EE68DE09A5B2C066886965; SUID=A; _SS=SID=32FFA3BF67EE68DE09A5B2C066886965; _UR=QS=0&TQS=0; OID=AhCO5mgQ-8Nr9Jfkwgt6jEA_3ByPngtR-RKdC6CyC1S0NVFYbla1-W3OP9Jcz6Fjyfb-p7ObV5cdnh70mpSXtceJynsfAhIVSy2Y_KlHyKnf3RNT__0Gq5VzIhiApyIGz0kIP6YSFt6FnTRebjbi8A-3; OIDI=ghCU_qb4abOL8_e_hylg2tCs4IWQOSMteu0nTyQEalaLp_q4PODnrpf30iUpPfbKBxA70xnOXwC4i2vOyV3uk672U7_jGAzustIe8i62telw_orqv6-RnQmGyttbJKT-3CtnalWREW5P_AcLMD2ksZLrp8nKgRzcr8ToRkVFCeX3ZkXfWGC3HsQYsGHSB_P0Y1zFLRVIMqAPqOk_MangBiKGTJiwg89CKmGSKNOaYUctIpr2TbXhepIq8RYJfQGLokaHzxBf_MzUa4ySjU7r194bkhQxt-HRwRhAnlEAMhW9qv9do3_VyKSh84gLWzeb2TYCCbzm3SyIlx7FWg_Cn6mmdUHh1SfyOGlScd1hkjNu5YqSPx4881IbbeJz_e8JCz6uHYQZvUVXpTjYDWOnBHoZvPxIhB4OGRLPtYoMBVSvDc1jBPXQPHyI3RtrTjiTIDB5CnqVj6-OZhCTjeI6f76VWuCRaJzpu87F9htVuEyk25ZsK-9Gvgi6LxGsqi7cpdgsNeNPJvgfLN61dYnf3lAaXzdOhsST8EZaoEuSKwpyz_GkL0Ud5oF4KN0fvfbN-7gU8NIzNRMcMgSn4pl_xmgXNl5wRJbdOIX6tdt2zf8hHXxsbHbSAnU9axk3gaqefyrIHP51AbaXr-QXts1NCKeBETB8PaCl2GVdeiPA_zRyqUq1MV2YBOpDd8XJe_Tg9NM9VdE6EUdW8oJ67HpSlHT831nwBc7fkFHD2CU8GDX2zyHpgK_kZ4U8vQRXxA4JZD-vRsjjXClkQTTxmLBq2zzWwWk2UlyigjVS1xKWK12ZEAujhgnwFN35WfbBFuOTTbqN74zwNL8ck6_LUSAZiXzPTN5QJNj0qzKH7CZR0-0Ixq3dHTKSA6JmLN-hgtFQF8A9mvQwX93BjEyNt6ksTwahgIsm0-eW9-9umt5Dp3Z92utb97lHJ80kuzpUEX3j2uPtpwckR6LrT7vpNhIqpZ80s7d1SC6x5Biff4_v_-dWSY7rzNUDsIgoDYfKPHr7qTGVZOoJ_rxZm7Hrxp_yx7zVRP7wPqQLaqQW_fbT_WCyNfwFhl4er1hlPogxhT3Bo0ovk9bOjm9hdsY0m6yho4tu9If-azrbHQpnIgl5V5BuiPpE9Myc5gmquHVJrMhuvM8K8dh7zIwyaDtKwbanEUimvyPK2c-TD8LbnjyGl0ByRv5-lS92ZLPtmS3c5F7dnlDUkC_Ub6ZvgbhnkNsYOrkdfsT-HtcoTEALMM7UJX0KBFzL7xyH_lnsQvJ-7KQWYx_BVV8lkTvsRZ2_rwv29iWc_wFnJnj3I3gNUseMipaEIu3dGG-emjjdcmgHn8hBGEIlQJXPGO48Og2g8Qu8OMYuwWZHnCecYk37uXN-Cl-_CHPHc4ZrX5gfXzgVUeMj1Ky2vpSiu7BdGocD9s3iyHQPi14dXfYlqpaZQYJ9ecDY6hhALs_Qk9aMRaqll_kz9TmlP0DXrpJV9QSBb-FQ-g04TMYgoFG20AumLYTXgihMlJKepLemIAfrwajSMw_YIUvTXPQFyaCcu5Mvlgk-x2-oeUSjL0FUUeAdXL83lDY0xBJVzsRBQxOtFAskxMib0ck_Kl0FMM1A5oX0W6wn8pVWVVIrCFaWZNAV2MOND8xkY3qOGJejuRg7t1x8sHHFc9Ct3IgHFHlotgVnwroKAB4Dx8l-Ry_fDzTOxDRvQguDayVng7ggpMZaVQj3PiltsvXAZMiK2oXfhd1KJS2h3FoFNNinohjWI1ErwrPy8DZ07UO7xFp4cm3goRmp7rJAanW-ILArnbVHxjn6aD-ocrOeT3TnZG45zmHXXUxj1lMlXTDF6Mi7LcQFMHL18tRO8b4xsavS8TFaDuKCPbDSq4p_hpHbb566C5_XWc-NCYVMeNbK-Qw0Ao2yj78Ka56YT8011uWL_fXBz_5_51rt6CmdpKTltlX-c2L9yQvpTDit7DBAAmaM3oNpaiGQ0jlt9l2dHHz1uSW3rLs1mjtHC7Si; OIDR=ghC6-TjjH-dlSEjMoUW5_TQ6bFJOUMVf1ZEGmUgluexgLRHYtr40uIC9cBkuzkd4b2XKCQ4Xh-3-f_m31PtJHvTA4Yv6Z2piV_-xLn6n9w08ghxI4B4061i0_y6TJBWsgC9NH5B7cme3FPchOZBGQR_fLPlLv-FM-JpUngSCMKx-LbA9G8gYC7ILichm51DCpT4br-U9zKpczhZdXBU73yBzf8b9b_VBhrOWX7o7qTDBA8S8v7J8BFa7ukZqW7GOKcr2JP0ri_M1sbQVfoGjRxOL2iejHnfbfiWklTiqCyzY0JUf-fhT6VsFwAW05NoNG2EwF6eJxPnX_6BFwi9iqCBowzUhOGZGpqA7tyVP0KFEXDA5tIAAK8OvxWT9FsqzQJa8fLSlX4yaQIY5kAbVFqYFXU6sdue4eGmkB5ki_rFhg8oUGD0wojCJQaa9uSmgkW-XpuTjd1TqC0Ueqogd6ZWDxxNT4TFsA-MpTJw6G5cQyTSnJs3nP8OPhiJlsXIjSWSEEL4zFNeH7E70Fy2pbrf_PEBLGI_8l9vBZ9Zs9-omfWdZhhEkbNzeFjKLFPdT_OKw0brxvA3nBACCowtohv1syPoUhar7gUwZIS7zvTT_oPr5vssbE4WEwKmZ9qjwtLZQKBKQheXzahOAf7rZgBnaaX5kYJQ5scH5T0LwuMEnrDE93YAcInLVMesi_pog-ndxcrPxC6wcUFNpewzLX3GwOENJRoVq33DyFdPEC4ksHtsMhtPLJD06J7IfnKbXUwc1YCqEicIi7-b48QloYNUxebYPp1lwSASPpJ0gZCwDsjtSI_cTemUbEV8NvKaDgfBJ5sak2Arjv1vtytI3bCCm6tXIFH92ilcDc6Sz5-ydmrHRm6pcdaGJc7wToKMdjzd1fTexKBmidooLetfVpuA1_dJMNeFxf-yqyh7QRBFQZePiTFOluhamzyu683RXckX6GImuH2ezgwDXlr2aKh6KKjdgZfIUoPl6P1i0jVwjago3dYgSP5BZxNet8twglQhjbMw7SCgACqSal5sjGgS-xYgoSh9k1ZX4Poj3CeqQxPPW8RVRsbC5mUKjE0b26GEsCjUVfqTVpaaErCmTvkRo7D_8ToYcaEYR9kWvycbzKZn3QVBM53sxtjWwhzNtaXDxZwSFP4loP5xNCj-TYddgD6rSbMiXus4r1WLEw7gCYj1s_vlA1q04GXS8UpcWqQemIAk5EFJB5LwOJM5Atwz9; ipv6=hit=1649340963687&t=4; SRCHUSR=DOB=20200808&T=1634487921000&TPC=1649337368000&POEX=O; SNRHOP=I=&TS=; SRCHHPGUSR=SRCHLANG=zh-Hans&BRW=M&BRH=T&CW=1301&CH=1054&SW=2304&SH=1296&DPR=2&UTC=480&DM=1&HV=1649337396&BZA=0; _HPVN=CS=eyJQbiI6eyJDbiI6MTUsIlN0IjoyLCJRcyI6MCwiUHJvZCI6IlAifSwiU2MiOnsiQ24iOjE1LCJTdCI6MCwiUXMiOjAsIlByb2QiOiJIIn0sIlF6Ijp7IkNuIjoxNSwiU3QiOjEsIlFzIjowLCJQcm9kIjoiVCJ9LCJBcCI6dHJ1ZSwiTXV0ZSI6dHJ1ZSwiTGFkIjoiMjAyMi0wNC0wN1QwMDowMDowMFoiLCJJb3RkIjowLCJHd2IiOjAsIkRmdCI6bnVsbCwiTXZzIjowLCJGbHQiOjAsIkltcCI6NjV9',\n",
    "}\n",
    "\n",
    "params = {\n",
    "    'FORM': 'Z9FD1',\n",
    "}\n",
    "\n",
    "response = requests.get('https://cn.bing.com/hp/api/model', headers=headers, params=params, cookies=cookies)\n",
    "data = response.json()['MediaContents']"
   ]
  },
  {
   "cell_type": "code",
   "execution_count": 25,
   "id": "0d8028ae-9e2c-4e7e-9787-a2a1880413d6",
   "metadata": {},
   "outputs": [
    {
     "data": {
      "application/vnd.jupyter.widget-view+json": {
       "model_id": "b6329e739e0f4b13b8e7fa9616f72b41",
       "version_major": 2,
       "version_minor": 0
      },
      "text/plain": [
       "  0%|          | 0/7 [00:00<?, ?it/s]"
      ]
     },
     "metadata": {},
     "output_type": "display_data"
    }
   ],
   "source": [
    "from tqdm.notebook import tqdm\n",
    "import os\n",
    "\n",
    "image_data = []\n",
    "for d in tqdm(data):\n",
    "    with open(os.path.join(\"images\", d['ImageContent']['Title']+\".jpg\"), 'wb') as fd:\n",
    "        if d[\"ImageContent\"][\"Image\"][\"Url\"][0] == '/':\n",
    "            fd.write(requests.get(\"https://cn.bing.com\"+d[\"ImageContent\"][\"Image\"][\"Url\"]).content)\n",
    "        else:\n",
    "            fd.write(requests.get(d[\"ImageContent\"][\"Image\"][\"Url\"]).content)"
   ]
  },
  {
   "cell_type": "code",
   "execution_count": null,
   "id": "76f28b72-77bc-480a-a10a-7fa2437ed0d0",
   "metadata": {},
   "outputs": [],
   "source": []
  }
 ],
 "metadata": {
  "kernelspec": {
   "display_name": "Python 3 (ipykernel)",
   "language": "python",
   "name": "python3"
  },
  "language_info": {
   "codemirror_mode": {
    "name": "ipython",
    "version": 3
   },
   "file_extension": ".py",
   "mimetype": "text/x-python",
   "name": "python",
   "nbconvert_exporter": "python",
   "pygments_lexer": "ipython3",
   "version": "3.9.5"
  }
 },
 "nbformat": 4,
 "nbformat_minor": 5
}
