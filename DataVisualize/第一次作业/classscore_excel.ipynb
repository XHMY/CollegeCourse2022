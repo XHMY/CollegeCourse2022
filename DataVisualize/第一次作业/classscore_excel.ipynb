{
 "cells": [
  {
   "cell_type": "code",
   "execution_count": 2,
   "id": "54a2e24f-5003-456b-a17f-d98d8748ac00",
   "metadata": {},
   "outputs": [],
   "source": [
    "import pandas as pd\n",
    "import numpy as np"
   ]
  },
  {
   "cell_type": "code",
   "execution_count": 3,
   "id": "c0a82773-97f2-4beb-963a-70daa33ffd17",
   "metadata": {
    "jupyter": {
     "source_hidden": true
    },
    "tags": []
   },
   "outputs": [],
   "source": [
    "import random\n",
    "\n",
    "def random_name():\n",
    "    # 删减部分小众姓氏\n",
    "    firstName = \"赵钱孙李周吴郑王冯陈褚卫蒋沈韩杨朱秦尤许何吕施张孔曹严华金魏陶姜戚谢邹喻水云苏潘葛奚范彭郎鲁韦昌马苗凤花方俞任袁柳鲍史唐费岑薛雷贺倪汤滕殷罗毕郝邬安常乐于时傅卞齐康伍余元卜顾孟平\" \\\n",
    "                \"黄和穆萧尹姚邵湛汪祁毛禹狄米贝明臧计成戴宋茅庞熊纪舒屈项祝董粱杜阮席季麻强贾路娄危江童颜郭梅盛林刁钟徐邱骆高夏蔡田胡凌霍万柯卢莫房缪干解应宗丁宣邓郁单杭洪包诸左石崔吉\" \\\n",
    "                \"龚程邢滑裴陆荣翁荀羊甄家封芮储靳邴松井富乌焦巴弓牧隗山谷车侯伊宁仇祖武符刘景詹束龙叶幸司韶黎乔苍双闻莘劳逄姬冉宰桂牛寿通边燕冀尚农温庄晏瞿茹习鱼容向古戈终居衡步都耿满弘国文东殴沃曾关红游盖益桓公晋楚闫\"\n",
    "    # 百家姓姓氏\n",
    "    # firstName = \"赵钱孙李周吴郑王冯陈褚卫蒋沈韩杨朱秦尤许何吕施张孔曹严华金魏陶姜戚谢邹喻柏水窦章云苏潘葛奚范彭郎鲁韦昌马苗凤花方俞任袁柳酆鲍史唐费廉岑薛雷贺倪汤滕殷罗毕郝邬安常乐于时傅皮卞齐康伍余元卜顾孟平\" \\\n",
    "    #             \"黄和穆萧尹姚邵湛汪祁毛禹狄米贝明臧计伏成戴谈宋茅庞熊纪舒屈项祝董粱杜阮蓝闵席季麻强贾路娄危江童颜郭梅盛林刁钟徐邱骆高夏蔡田樊胡凌霍虞万支柯昝管卢莫经房裘缪干解应宗丁宣贲邓郁单杭洪包诸左石崔吉钮\" \\\n",
    "    #             \"龚程嵇邢滑裴陆荣翁荀羊於惠甄麴家封芮羿储靳汲邴糜松井段富巫乌焦巴弓牧隗山谷车侯宓蓬全郗班仰秋仲伊宫宁仇栾暴甘钭厉戎祖武符刘景詹束龙叶幸司韶郜黎蓟薄印宿白怀蒲邰从鄂索咸籍赖卓蔺屠蒙池乔阴欎胥能苍\" \\\n",
    "    #             \"双闻莘党翟谭贡劳逄姬申扶堵冉宰郦雍舄璩桑桂濮牛寿通边扈燕冀郏浦尚农温别庄晏柴瞿阎充慕连茹习宦艾鱼容向古易慎戈廖庾终暨居衡步都耿满弘匡国文寇广禄阙东殴殳沃利蔚越夔隆师巩厍聂晁勾敖融冷訾辛阚那简饶空\" \\\n",
    "    #             \"曾毋沙乜养鞠须丰巢关蒯相查後荆红游竺权逯盖益桓公晋楚闫法汝鄢涂钦归海帅缑亢况后有琴梁丘左丘商牟佘佴伯赏南宫墨哈谯笪年爱阳佟言福百家姓终\"\n",
    "    # 百家姓中双姓氏\n",
    "    firstName2=\"万俟司马上官欧阳夏侯诸葛闻人东方赫连皇甫尉迟公羊澹台公冶宗政濮阳淳于单于太叔申屠公孙仲孙轩辕令狐钟离宇文长孙慕容鲜于闾丘司徒司空亓官司寇仉督子颛孙端木巫马公西漆雕乐正壤驷公良拓跋夹谷宰父谷梁段干百里东郭南门呼延羊舌微生梁丘左丘东门西门南宫南宫\"\n",
    "    # 女孩名字\n",
    "    girl = '秀娟英华慧巧美娜静淑惠珠翠雅芝玉萍红娥玲芬芳燕彩春菊兰凤洁梅琳素云莲真环雪荣爱妹霞香月莺媛艳瑞凡佳嘉琼勤珍贞莉桂娣叶璧璐娅琦晶妍茜秋珊莎锦黛青倩婷姣婉娴瑾颖露瑶怡婵雁蓓纨仪荷丹蓉眉君琴蕊薇菁梦岚苑婕馨瑗琰韵融园艺咏卿聪澜纯毓悦昭冰爽琬茗羽希宁欣飘育滢馥筠柔竹霭凝晓欢霄枫芸菲寒伊亚宜可姬舒影荔枝思丽'\n",
    "    # 男孩名字\n",
    "    boy = '伟刚勇毅俊峰强军平保东文辉力明永健世广志义兴良海山仁波宁贵福生龙元全国胜学祥才发武新利清飞彬富顺信子杰涛昌成康星光天达安岩中茂进林有坚和彪博诚先敬震振壮会思群豪心邦承乐绍功松善厚庆磊民友裕河哲江超浩亮政谦亨奇固之轮翰朗伯宏言若鸣朋斌梁栋维启克伦翔旭鹏泽晨辰士以建家致树炎德行时泰盛雄琛钧冠策腾楠榕风航弘'\n",
    "    # 名\n",
    "    name = '中笑贝凯歌易仁器义礼智信友上都卡被好无九加电金马钰玉忠孝'\n",
    " \n",
    "    # 10%的机遇生成双数姓氏\n",
    "    if random.choice(range(100))>10:\n",
    "        firstName_name =firstName[random.choice(range(len(firstName)))]\n",
    "    else:\n",
    "        i = random.choice(range(len(firstName2)))\n",
    "        firstName_name =firstName2[i:i+2]\n",
    " \n",
    "    sex = random.choice(range(2))\n",
    "    name_1 = \"\"\n",
    "    # 生成并返回一个名字\n",
    "    if sex > 0:\n",
    "        girl_name = girl[random.choice(range(len(girl)))]\n",
    "        if random.choice(range(2)) > 0:\n",
    "            name_1 = name[random.choice(range(len(name)))]\n",
    "        return firstName_name + name_1 + girl_name\n",
    "    else:\n",
    "        boy_name = boy[random.choice(range(len(boy)))]\n",
    "        if random.choice(range(2)) > 0:\n",
    "            name_1 = name[random.choice(range(len(name)))]\n",
    "        return firstName_name + name_1 + boy_name"
   ]
  },
  {
   "cell_type": "code",
   "execution_count": 4,
   "id": "ee5e8982-f724-4222-9857-1de129292add",
   "metadata": {},
   "outputs": [],
   "source": [
    "stu_num = 10"
   ]
  },
  {
   "cell_type": "code",
   "execution_count": 5,
   "id": "afabce51-90a2-4901-b5ba-a5b2abc1673a",
   "metadata": {},
   "outputs": [],
   "source": [
    "mu, sigma = 63, 8 # mean and standard deviation\n",
    "s1 = np.random.normal(mu, sigma, stu_num)\n",
    "mu, sigma = 60, 6\n",
    "s2 = np.random.normal(mu, sigma, stu_num)\n",
    "mu, sigma = 70, 15\n",
    "s3 = np.random.normal(mu, sigma, stu_num)"
   ]
  },
  {
   "cell_type": "code",
   "execution_count": 6,
   "id": "6bcebaf1-79c4-4b74-8cf5-664c36cfcad8",
   "metadata": {},
   "outputs": [],
   "source": [
    "sub = [\"语文\"] * stu_num + [\"数学\"] * stu_num + [\"英语\"] * stu_num\n",
    "name = [random_name() for i in range(stu_num)] * 3"
   ]
  },
  {
   "cell_type": "code",
   "execution_count": 7,
   "id": "be4e2700-e0e4-4cbd-b3f8-e57b5068c51b",
   "metadata": {},
   "outputs": [],
   "source": [
    "df = pd.DataFrame({\"学生姓名\": name,\"科目\": sub, \"成绩\": np.hstack((s1, s2, s3))})"
   ]
  },
  {
   "cell_type": "code",
   "execution_count": 8,
   "id": "b296040c-b664-4ca4-8f4c-33c08349d7a6",
   "metadata": {},
   "outputs": [],
   "source": [
    "df.to_csv(\"20190105_score.csv\", index=False)"
   ]
  },
  {
   "cell_type": "code",
   "execution_count": null,
   "id": "f95afbcf-3fab-48d6-84ad-f78197366980",
   "metadata": {},
   "outputs": [],
   "source": []
  }
 ],
 "metadata": {
  "kernelspec": {
   "display_name": "Python 3 (ipykernel)",
   "language": "python",
   "name": "python3"
  },
  "language_info": {
   "codemirror_mode": {
    "name": "ipython",
    "version": 3
   },
   "file_extension": ".py",
   "mimetype": "text/x-python",
   "name": "python",
   "nbconvert_exporter": "python",
   "pygments_lexer": "ipython3",
   "version": "3.9.7"
  }
 },
 "nbformat": 4,
 "nbformat_minor": 5
}
