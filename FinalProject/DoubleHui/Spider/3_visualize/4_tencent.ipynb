{
 "cells": [
  {
   "cell_type": "markdown",
   "id": "fcec504a-ef8e-49a4-806a-7b10765f355f",
   "metadata": {
    "tags": []
   },
   "source": [
    "# 腾讯岗位分析部分\n",
    "\n",
    "> 20190105 曾一凡\n",
    ">\n",
    "> 爬虫大作业\n",
    ">\n",
    "> 2022年6月25日"
   ]
  },
  {
   "cell_type": "markdown",
   "id": "b3fcb34c-c883-43aa-abdd-186aefabd01b",
   "metadata": {},
   "source": [
    "引入画图库，在 Linux 环境下直接 `pip install lets-plot` 可以安装，详情请参考 `https://lets-plot.org/`"
   ]
  },
  {
   "cell_type": "code",
   "execution_count": null,
   "id": "b9efaf9c-5b44-4b2c-8b83-4a0b1dfc3f97",
   "metadata": {},
   "outputs": [],
   "source": [
    "from lets_plot import *\n",
    "from lets_plot.geo_data import *\n",
    "from lets_plot.mapping import as_discrete\n",
    "LetsPlot.setup_html(offline=True)"
   ]
  },
  {
   "cell_type": "markdown",
   "id": "42789dd6-0d97-43e1-9f65-fc3501ab3fa9",
   "metadata": {},
   "source": [
    "## 测试数据库读取\n",
    "\n",
    "本次数据全部在 `MongoDB` 数据库中进行存储，以及利用 `MongoDB` 自带的数据处理功能进行部分预处理"
   ]
  },
  {
   "cell_type": "code",
   "execution_count": null,
   "id": "af3834dc-5bca-4a66-9751-6b92860eb137",
   "metadata": {},
   "outputs": [],
   "source": [
    "from pymongo import MongoClient\n",
    "import pandas as pd"
   ]
  },
  {
   "cell_type": "markdown",
   "id": "5cc5d177-94ec-4e87-8870-e5cea8363359",
   "metadata": {},
   "source": [
    "读取一条进行测试"
   ]
  },
  {
   "cell_type": "code",
   "execution_count": null,
   "id": "3b6f2793-d8e0-409a-b169-26a835a39510",
   "metadata": {},
   "outputs": [],
   "source": [
    "client = MongoClient('localhost', 27017)\n",
    "client['jobspider_raw']['tencent'].find_one()"
   ]
  },
  {
   "cell_type": "markdown",
   "id": "c395a53d-a354-4c39-92c4-55f436871d62",
   "metadata": {},
   "source": [
    "## 岗位类型及就职要求分析"
   ]
  },
  {
   "cell_type": "markdown",
   "id": "ca40a599-311c-4680-921c-a0076c8ae752",
   "metadata": {},
   "source": [
    "### 数据预处理\n",
    "\n",
    "去处 `categories` 为 `None` 的工作，并对 `categories` 值进行拆分，提取大类与子类字段。"
   ]
  },
  {
   "cell_type": "code",
   "execution_count": null,
   "id": "5b353964-abe2-4f46-a1be-df7b1f2b90d4",
   "metadata": {},
   "outputs": [],
   "source": [
    "result = client['jobspider_raw']['tencent'].aggregate([\n",
    "    {\n",
    "        '$match': {\n",
    "            '$expr': {\n",
    "                '$and': [\n",
    "                    {'$ne': [\"\", '$BGName']},\n",
    "                    {'$ne': [\"\", '$Responsibility']},\n",
    "                    {'$ne': [\"\", '$CategoryName']}\n",
    "                ]\n",
    "            }\n",
    "        }\n",
    "    }, {\n",
    "        '$project': {\n",
    "            'Id': 1, \n",
    "            'CategoryName': 1,\n",
    "            'BGName': 1,\n",
    "            'Responsibility': 1,\n",
    "            'RecruitPostName': 1\n",
    "        }\n",
    "    }\n",
    "])"
   ]
  },
  {
   "cell_type": "code",
   "execution_count": null,
   "id": "c6f3f9f8-da63-454a-915a-173f5a802aa8",
   "metadata": {},
   "outputs": [],
   "source": [
    "categories_df = pd.DataFrame(list(result))\n",
    "categories_df.head()"
   ]
  },
  {
   "cell_type": "markdown",
   "id": "4f714cf2-92c9-4dec-a7bb-14db1530782b",
   "metadata": {},
   "source": [
    "### 职位类型分析\n",
    "\n",
    "腾讯事业群简写对照：\n",
    "\n",
    "- CDG 企业发展事业群\n",
    "- CSIG 云与智慧产业事业群\n",
    "- IEG 互动娱乐事业群\n",
    "- PCG 平台与内容事业群\n",
    "- WXG 微信事业群\n",
    "- TEG 技术工程事业群\n",
    "- S1 职能系统－职能线\n",
    "- S2 职能系统－财经线\n",
    "- S3 职能系统－HR与管理线\n",
    "- TME 腾讯音乐"
   ]
  },
  {
   "cell_type": "code",
   "execution_count": null,
   "id": "76897354-11c3-458a-97e1-243a4e98d26c",
   "metadata": {},
   "outputs": [],
   "source": [
    "ggplot(categories_df) + \\\n",
    "geom_bar(aes(x=as_discrete('BGName', order_by='..count..'),fill=as_discrete('CategoryName', order_by='..count..')),\n",
    "         size=0.5, show_legend=False) + \\\n",
    "ggsize(1200,700) + ggtitle(\"腾讯职位类型\")"
   ]
  },
  {
   "cell_type": "markdown",
   "id": "915c323f-d811-4d13-a72b-69346fb474a5",
   "metadata": {},
   "source": [
    "## 工作地点及部门分析"
   ]
  },
  {
   "cell_type": "code",
   "execution_count": null,
   "id": "8e20e1a6-551c-41f2-b31b-e229cb264bf5",
   "metadata": {},
   "outputs": [],
   "source": [
    "result = client['jobspider_raw']['tencent'].aggregate([\n",
    "    {\n",
    "        '$match': {\n",
    "            '$expr': {\n",
    "                '$ne': [\n",
    "                    \"\", '$LocationName'\n",
    "                ]\n",
    "            }\n",
    "        }\n",
    "    }, {\n",
    "        '$project': {\n",
    "            'LocationName': 1,\n",
    "            'BGName': 1,\n",
    "            'CountryName': 1\n",
    "        }\n",
    "    }\n",
    "])"
   ]
  },
  {
   "cell_type": "code",
   "execution_count": null,
   "id": "834266f5-ac76-4c51-84c0-3a07ed5ccdc6",
   "metadata": {},
   "outputs": [],
   "source": [
    "locations_df = pd.DataFrame(list(result))\n",
    "locations_df = locations_df[locations_df[\"CountryName\"]=='中国']\n",
    "locations_df = locations_df.groupby([\"LocationName\", \"BGName\"]).count()\n",
    "locations_df.head()"
   ]
  },
  {
   "cell_type": "code",
   "execution_count": null,
   "id": "f7f65cc0-a221-44a0-ab73-2ff8e2319758",
   "metadata": {},
   "outputs": [],
   "source": [
    "raw_city_list = [i[0] for i in locations_df.index]\n",
    "\n",
    "# 处理直接使用中文搜索不到的地名\n",
    "english_dic = {\"香港（中国）\": \"Hongkong\"}\n",
    "\n",
    "# 处理有同名县城的城市名\n",
    "city_dic = {\"中山\": \"中山市\", \"乌鲁木齐\": \"乌鲁木齐市\",\n",
    "            \"九江\": \"九江市\", \"南京\": \"南京市\",\n",
    "            \"南昌\": \"南昌市\", \"南通\": \"南通市\",\n",
    "            \"大连\": \"大连市\", \"岳阳\": \"岳阳市\",\n",
    "            \"新乡\": \"新乡市\", \"江门\": \"江门市\",\n",
    "            \"洛阳\": \"洛阳市\", \"淮安\": \"淮安市\",\n",
    "            \"眉山\": \"眉山市\", \"石家庄\": \"石家庄市\",}\n",
    "\n",
    "\n",
    "process_city_list = list()\n",
    "for i in raw_city_list:\n",
    "    if i in english_dic.keys():\n",
    "        process_city_list.append(english_dic[i])\n",
    "    elif i in city_dic.keys():\n",
    "        process_city_list.append(city_dic[i])\n",
    "    else:\n",
    "        process_city_list.append(i)\n",
    "\n",
    "centroids = geocode_cities(process_city_list).get_centroids()"
   ]
  },
  {
   "cell_type": "code",
   "execution_count": null,
   "id": "5f1ff041-d186-4746-ba4e-80e3e291903f",
   "metadata": {},
   "outputs": [],
   "source": [
    "locations_df[\"city\"] = [i[0] for i in locations_df.index]\n",
    "locations_df[\"department\"] = [i[1] for i in locations_df.index]"
   ]
  },
  {
   "cell_type": "code",
   "execution_count": null,
   "id": "9f29739c-63df-4183-aac6-1009e0b1f4b1",
   "metadata": {},
   "outputs": [],
   "source": [
    "ggplot() + geom_livemap(zoom=5) + \\\n",
    "geom_point(aes(size='_id', color=\"department\"), alpha=0.9, \\\n",
    "           data=locations_df, map=centroids, map_join='city', \\\n",
    "           tooltips=layer_tooltips().line('@city')\n",
    "                                    .line('Job Count|@_id')\n",
    "                                    .line('Department|@department')) + \\\n",
    "scale_color_brewer(type='qual', palette='Set1') + ggsize(1000, 600)"
   ]
  },
  {
   "cell_type": "markdown",
   "id": "d5f5c921-a00a-48a8-ab4e-c9b132626f02",
   "metadata": {},
   "source": [
    "## 工作内容及岗位要求描述语言分析\n",
    "\n",
    "### 按词性分析总体情况"
   ]
  },
  {
   "cell_type": "code",
   "execution_count": null,
   "id": "22f9b8e1-19c5-4e0e-8aa5-b3724ff6a080",
   "metadata": {},
   "outputs": [],
   "source": [
    "import jieba\n",
    "import jieba.posseg as pseg\n",
    "from wordcloud import WordCloud, STOPWORDS, ImageColorGenerator\n",
    "import numpy as np\n",
    "from PIL import Image\n",
    "from tqdm.notebook import tqdm\n",
    "import paddle\n",
    "paddle.enable_static()\n",
    "jieba.enable_paddle() # 启动paddle模式。 0.40版之后开始支持，早期版本不支持\n",
    "\n",
    "import matplotlib.pyplot as plt\n",
    "from matplotlib.pyplot import imshow\n",
    "import matplotlib_inline.backend_inline\n",
    "matplotlib_inline.backend_inline.set_matplotlib_formats('retina')\n",
    "import matplotlib.font_manager as font_manager\n",
    "\n",
    "# Add every font at the specified location\n",
    "font_dir = ['fonts']\n",
    "for font in font_manager.findSystemFonts(font_dir):\n",
    "    font_manager.fontManager.addfont(font)\n",
    "    \n",
    "plt.rcParams['font.family'] = 'FZLanTingHeiS-R-GB'\n",
    "\n",
    "from collections import OrderedDict"
   ]
  },
  {
   "cell_type": "code",
   "execution_count": null,
   "id": "b7961d9d-10c9-4079-b7c2-e4b5784b6b2a",
   "metadata": {},
   "outputs": [],
   "source": [
    "requirement_seg_list = []\n",
    "description_seg_list = []\n",
    "for i in tqdm(categories_df.iterrows(), total=len(categories_df)):\n",
    "    requirement_seg_list += pseg.cut(i[1]['Responsibility'], use_paddle=True) # 使用paddle模式"
   ]
  },
  {
   "cell_type": "code",
   "execution_count": null,
   "id": "5ca8a672-5a6e-4a63-a3ef-caa529170a8d",
   "metadata": {},
   "outputs": [],
   "source": [
    "word_dict = {}\n",
    "word_dict[\"requirement\"] = OrderedDict()\n",
    "word_pseg_df = pd.read_csv(\"word_pseg.csv\")\n",
    "for p in word_pseg_df[\"pseg\"]:\n",
    "    word_dict[\"requirement\"][p] = []\n",
    "for i in requirement_seg_list:\n",
    "    try:\n",
    "        word_dict[\"requirement\"][i.flag].append(i.word)\n",
    "    except KeyError:\n",
    "        pass\n",
    "word_stat = []\n",
    "for k, v in word_dict.items():\n",
    "    for p, wl in v.items():\n",
    "        word_stat.append({\"source\": k, \"pseg\": p, \"count\": len(wl)})\n",
    "        \n",
    "word_stat_df = pd.DataFrame(word_stat)\n",
    "word_stat_df = word_stat_df.merge(word_pseg_df, on='pseg', how='left')\n",
    "word_stat_df.head()"
   ]
  },
  {
   "cell_type": "code",
   "execution_count": null,
   "id": "b5be626b-9cf1-43eb-b414-cb6956223958",
   "metadata": {},
   "outputs": [],
   "source": [
    "ggplot(word_stat_df, aes(x='desc', y='count', fill='source')) + \\\n",
    "geom_bar(stat='identity', position='dodge', tooltips=layer_tooltips().line('@pseg').line('@desc').line('@')) + \\\n",
    "ggsize(1200,700)"
   ]
  },
  {
   "cell_type": "code",
   "execution_count": null,
   "id": "1a1fcd91-c830-45b6-8021-72de4bf4b629",
   "metadata": {},
   "outputs": [],
   "source": [
    "wc = WordCloud(\n",
    "    background_color='white', #设置背景颜色\n",
    "    width = 2000, height = 250,\n",
    "    max_words = 500, #设置最大显示的词数\n",
    "    stopwords = STOPWORDS, #设置停用词\n",
    "    font_path = 'fonts/FZLTHJW.TTF', \n",
    "    max_font_size = 100, #设置字体最大值\n",
    "    random_state=50, #设置随机生成状态，即多少种配色方案\n",
    "    )"
   ]
  },
  {
   "cell_type": "code",
   "execution_count": null,
   "id": "b8cb8f2d-a365-4d48-9c3f-19c165c2e6be",
   "metadata": {
    "tags": []
   },
   "outputs": [],
   "source": [
    "# plt.rcParams['figure.figsize'] = (10.0, 1000.0)\n",
    "fig, ax = plt.subplots(28, 1, figsize=(20, 80))\n",
    "for id_pseg, (p, wl) in tqdm(enumerate(word_dict[\"requirement\"].items()), total=28):\n",
    "    requirement_wordcloud = wc.generate(' '.join(wl))\n",
    "    ax[id_pseg].imshow(requirement_wordcloud)\n",
    "    ax[id_pseg].axis('off')\n",
    "    ax[id_pseg].set_title(f\"Responsibility {word_pseg_df[word_pseg_df['pseg']==p]['desc'].values[0]}\")"
   ]
  },
  {
   "cell_type": "markdown",
   "id": "375d0064-4868-4799-91c7-a31d561ad8a6",
   "metadata": {},
   "source": [
    "### 分析不同事业群工作的责任"
   ]
  },
  {
   "cell_type": "code",
   "execution_count": null,
   "id": "21417730-1507-41dd-92b0-126509767604",
   "metadata": {},
   "outputs": [],
   "source": [
    "cat_val = list(categories_df.groupby([\"BGName\"])[\"_id\"].count().sort_values(ascending=False).index)\n",
    "seg_cat_dic = {\"requirement\": OrderedDict()}\n",
    "for i in seg_cat_dic.keys():\n",
    "    for j in cat_val:\n",
    "        seg_cat_dic[i][j] = []\n",
    "\n",
    "for i in tqdm(categories_df.iterrows(), total=len(categories_df)):\n",
    "    seg_cat_dic['requirement'][i[1]['BGName']] += pseg.cut(i[1]['Responsibility'], use_paddle=True)"
   ]
  },
  {
   "cell_type": "code",
   "execution_count": null,
   "id": "2e17806b-2263-4a6e-8cd4-27cc987465a1",
   "metadata": {},
   "outputs": [],
   "source": [
    "word_dict = {\"requirement\": OrderedDict()}\n",
    "care_pseg = [\"n\", \"nz\", \"v\", \"vn\", \"a\"]\n",
    "for i in word_dict.keys():\n",
    "    for j in cat_val:\n",
    "        word_dict[i][j] = OrderedDict()\n",
    "        for k in care_pseg:\n",
    "            word_dict[i][j][k] = []\n",
    "\n",
    "for part, content in seg_cat_dic.items():\n",
    "    for cat, wl in content.items():\n",
    "        for i in wl:\n",
    "            try:\n",
    "                word_dict[part][cat][i.flag].append(i.word)\n",
    "            except KeyError:\n",
    "                pass"
   ]
  },
  {
   "cell_type": "code",
   "execution_count": null,
   "id": "ae8c69ef-f101-4d94-9a15-bbdcf0e9c2e9",
   "metadata": {},
   "outputs": [],
   "source": [
    "wc = WordCloud(\n",
    "    background_color='white', #设置背景颜色\n",
    "    width = 600, height = 600,\n",
    "    max_words = 500, #设置最大显示的词数\n",
    "    stopwords = STOPWORDS, #设置停用词\n",
    "    font_path = 'fonts/FZLTHJW.TTF', \n",
    "    max_font_size = 100, #设置字体最大值\n",
    "    random_state=50, #设置随机生成状态，即多少种配色方案\n",
    "    )"
   ]
  },
  {
   "cell_type": "code",
   "execution_count": null,
   "id": "f0c7712e-8844-4830-bdb1-50915a7520d8",
   "metadata": {},
   "outputs": [],
   "source": [
    "for id_part, (part_name, cat_dict) in enumerate(word_dict.items()):\n",
    "    fig, ax = plt.subplots(len(cat_val), len(care_pseg), figsize=(20, 50))\n",
    "    for id_cat, (cat_name, pseg_dict) in tqdm(enumerate(cat_dict.items()), total=len(cat_val)):\n",
    "        for id_pseg, (p, wl) in enumerate(pseg_dict.items()):\n",
    "            ax[id_cat][id_pseg].axis('off')\n",
    "            ax[id_cat][id_pseg].set_title(f\"{part_name} {cat_name} {word_pseg_df[word_pseg_df['pseg']==p]['desc'].values[0]}\")\n",
    "            if not len(wl):\n",
    "                continue\n",
    "            requirement_wordcloud = wc.generate(' '.join(wl))\n",
    "            ax[id_cat][id_pseg].imshow(requirement_wordcloud)"
   ]
  },
  {
   "cell_type": "code",
   "execution_count": null,
   "id": "c107f7ee-e34e-40ce-96e7-b6a393b9a168",
   "metadata": {},
   "outputs": [],
   "source": []
  }
 ],
 "metadata": {
  "kernelspec": {
   "display_name": "Python 3 (ipykernel)",
   "language": "python",
   "name": "python3"
  },
  "language_info": {
   "codemirror_mode": {
    "name": "ipython",
    "version": 3
   },
   "file_extension": ".py",
   "mimetype": "text/x-python",
   "name": "python",
   "nbconvert_exporter": "python",
   "pygments_lexer": "ipython3",
   "version": "3.9.12"
  }
 },
 "nbformat": 4,
 "nbformat_minor": 5
}
