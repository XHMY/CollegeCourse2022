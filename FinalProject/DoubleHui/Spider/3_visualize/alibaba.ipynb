{
 "cells": [
  {
   "cell_type": "code",
   "execution_count": 4,
   "id": "af3834dc-5bca-4a66-9751-6b92860eb137",
   "metadata": {},
   "outputs": [],
   "source": [
    "from pymongo import MongoClient"
   ]
  },
  {
   "cell_type": "code",
   "execution_count": 5,
   "id": "3b6f2793-d8e0-409a-b169-26a835a39510",
   "metadata": {},
   "outputs": [
    {
     "data": {
      "text/plain": [
       "{'_id': ObjectId('62b324a516845fcd8bc655c4'),\n",
       " 'content': 'All your data is a backed up. You must pay 0.043 BTC to 1Kz6v4B5CawcnL8jrUvHsvzQv5Yq4fbsSv 48 hours for recover it. After 48 hours expiration we will leaked and exposed all your data. In case of refusal to pay, we will contact the General Data Protection Regulation, GDPR and notify them that you store user data in an open form and is not safe. Under the rules of the law, you face a heavy fine or arrest and your base dump will be dropped from our server! You can buy bitcoin here, does not take much time to buy https://localbitcoins.com or https://buy.moonpay.io/ After paying write to me in the mail with your DB IP: recmydb+11928@onionmail.org and/or mariadb@mailnesia.com and you will receive a link to download your database dump.'}"
      ]
     },
     "execution_count": 5,
     "metadata": {},
     "output_type": "execute_result"
    }
   ],
   "source": [
    "client = MongoClient('124.71.209.74', 27017)\n",
    "client.READ__ME_TO_RECOVER_YOUR_DATA.README.find_one()"
   ]
  },
  {
   "cell_type": "code",
   "execution_count": 3,
   "id": "e3febe57-8e22-4717-a78e-7545dea46f29",
   "metadata": {},
   "outputs": [],
   "source": [
    "result = client['jobspider_raw']['alibaba'].aggregate([\n",
    "    {\n",
    "        '$project': {\n",
    "            'id': 1, \n",
    "            'company': 'alibaba', \n",
    "            'name': 1, \n",
    "            'categories': {\n",
    "                '$arrayElemAt': [\n",
    "                    '$categories', 0\n",
    "                ]\n",
    "            }, \n",
    "            'publishTime': {\n",
    "                '$toDate': '$publishTime'\n",
    "            }, \n",
    "            'workLocations': {\n",
    "                '$arrayElemAt': [\n",
    "                    '$workLocations', 0\n",
    "                ]\n",
    "            }, \n",
    "            'requirement': 1, \n",
    "            'description': 1, \n",
    "            'experience': '$experience.from', \n",
    "            'degree': 1, \n",
    "            'department': 1\n",
    "        }\n",
    "    }\n",
    "])"
   ]
  },
  {
   "cell_type": "code",
   "execution_count": null,
   "id": "c6f3f9f8-da63-454a-915a-173f5a802aa8",
   "metadata": {},
   "outputs": [],
   "source": []
  }
 ],
 "metadata": {
  "kernelspec": {
   "display_name": "Python 3 (ipykernel)",
   "language": "python",
   "name": "python3"
  },
  "language_info": {
   "codemirror_mode": {
    "name": "ipython",
    "version": 3
   },
   "file_extension": ".py",
   "mimetype": "text/x-python",
   "name": "python",
   "nbconvert_exporter": "python",
   "pygments_lexer": "ipython3",
   "version": "3.9.5"
  }
 },
 "nbformat": 4,
 "nbformat_minor": 5
}
