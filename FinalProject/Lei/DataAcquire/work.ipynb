{
 "cells": [
  {
   "cell_type": "code",
   "execution_count": 1,
   "id": "e03232f4-d533-4e97-9ce1-9126ed17f62c",
   "metadata": {},
   "outputs": [],
   "source": [
    "import pandas as pd\n",
    "import requests\n",
    "import json\n",
    "import numpy as np"
   ]
  },
  {
   "cell_type": "code",
   "execution_count": 3,
   "id": "21d9c79e-e7df-4a32-99e8-b5bd32e75b17",
   "metadata": {},
   "outputs": [],
   "source": [
    "cookies = {\n",
    "    'route': '1e33ed259a40783db5476d5dbcb32a8c',\n",
    "    'JSESSIONID': '261FBBBBF859797AA20DEAC15B20B455',\n",
    "}\n",
    "\n",
    "headers = {\n",
    "    'authority': 'jw.zcst.edu.cn',\n",
    "    'accept': 'application/json, text/javascript, */*; q=0.01',\n",
    "    'accept-language': 'zh-CN,zh;q=0.9,en-US;q=0.8,en;q=0.7,zh-TW;q=0.6',\n",
    "    'content-type': 'application/x-www-form-urlencoded;charset=UTF-8',\n",
    "    # Requests sorts cookies= alphabetically\n",
    "    # 'cookie': 'route=1e33ed259a40783db5476d5dbcb32a8c; JSESSIONID=261FBBBBF859797AA20DEAC15B20B455',\n",
    "    'origin': 'https://jw.zcst.edu.cn',\n",
    "    'referer': 'https://jw.zcst.edu.cn/cjcx/cjcx_cxDgXscj.html?gnmkdm=N305005&layout=default&su=20190105',\n",
    "    'sec-ch-ua': '\" Not A;Brand\";v=\"99\", \"Chromium\";v=\"102\", \"Google Chrome\";v=\"102\"',\n",
    "    'sec-ch-ua-mobile': '?0',\n",
    "    'sec-ch-ua-platform': '\"Windows\"',\n",
    "    'sec-fetch-dest': 'empty',\n",
    "    'sec-fetch-mode': 'cors',\n",
    "    'sec-fetch-site': 'same-origin',\n",
    "    'user-agent': 'Mozilla/5.0 (Windows NT 10.0; Win64; x64) AppleWebKit/537.36 (KHTML, like Gecko) Chrome/102.0.0.0 Safari/537.36',\n",
    "    'x-requested-with': 'XMLHttpRequest',\n",
    "}\n",
    "\n",
    "params = {\n",
    "    'doType': 'query',\n",
    "    'gnmkdm': 'N305005',\n",
    "    'su': '20190105',\n",
    "}\n",
    "\n",
    "data = {\n",
    "    'xnm': '',\n",
    "    'xqm': '',\n",
    "    '_search': 'false',\n",
    "    'nd': '1655340542621',\n",
    "    'queryModel.showCount': '5000',\n",
    "    'queryModel.currentPage': '1',\n",
    "    'queryModel.sortName': '',\n",
    "    'queryModel.sortOrder': 'asc',\n",
    "    'time': '4',\n",
    "}\n",
    "\n",
    "response = requests.post('https://jw.zcst.edu.cn/cjcx/cjcx_cxXsgrcj.html', params=params, cookies=cookies, headers=headers, data=data)"
   ]
  },
  {
   "cell_type": "markdown",
   "id": "53886f0f-6b3a-4215-bede-fc38b1e17e43",
   "metadata": {},
   "source": [
    "将请求到的JSON原始文件写入磁盘，下次使用直接从磁盘读取"
   ]
  },
  {
   "cell_type": "code",
   "execution_count": 4,
   "id": "63414026-f9f2-4e57-8e9a-e69ccfa8d66e",
   "metadata": {},
   "outputs": [],
   "source": [
    "with open(\"source_data.json\", 'w') as fd:\n",
    "    json.dump(response.json(), fd)"
   ]
  },
  {
   "cell_type": "code",
   "execution_count": 20,
   "id": "af09dbee-95d8-4052-84a2-817f57da7424",
   "metadata": {},
   "outputs": [
    {
     "name": "stdout",
     "output_type": "stream",
     "text": [
      "Index(['bfzcj', 'bh', 'bh_id', 'bj', 'bzxx', 'cj', 'cjsfzf', 'date',\n",
      "       'dateDigit', 'dateDigitSeparator', 'day', 'jd', 'jg_id', 'jgmc',\n",
      "       'jgpxzd', 'jsxm', 'jxb_id', 'jxbmc', 'kcbj', 'kcgsmc', 'kch', 'kch_id',\n",
      "       'kcmc', 'kcxzdm', 'kcxzmc', 'key', 'khfsmc', 'kkbmmc', 'ksxz', 'ksxzdm',\n",
      "       'listnav', 'localeKey', 'month', 'njdm_id', 'njmc', 'pageable',\n",
      "       'queryModel', 'rangeable', 'row_id', 'rwzxs', 'sfdkbcx', 'sfxwkc',\n",
      "       'sfzh', 'tjrxm', 'totalResult', 'userModel', 'xb', 'xbm', 'xf', 'xfjd',\n",
      "       'xh', 'xh_id', 'xm', 'xnm', 'xnmmc', 'xqm', 'xqmmc', 'year', 'zyh_id',\n",
      "       'zymc', 'kclbmc', 'tjsj'],\n",
      "      dtype='object')\n"
     ]
    },
    {
     "data": {
      "text/html": [
       "<div>\n",
       "<style scoped>\n",
       "    .dataframe tbody tr th:only-of-type {\n",
       "        vertical-align: middle;\n",
       "    }\n",
       "\n",
       "    .dataframe tbody tr th {\n",
       "        vertical-align: top;\n",
       "    }\n",
       "\n",
       "    .dataframe thead th {\n",
       "        text-align: right;\n",
       "    }\n",
       "</style>\n",
       "<table border=\"1\" class=\"dataframe\">\n",
       "  <thead>\n",
       "    <tr style=\"text-align: right;\">\n",
       "      <th></th>\n",
       "      <th>kch</th>\n",
       "      <th>kcmc</th>\n",
       "      <th>bfzcj</th>\n",
       "      <th>type</th>\n",
       "    </tr>\n",
       "  </thead>\n",
       "  <tbody>\n",
       "    <tr>\n",
       "      <th>0</th>\n",
       "      <td>003360</td>\n",
       "      <td>西方文明通论</td>\n",
       "      <td>99.4</td>\n",
       "      <td>通识课</td>\n",
       "    </tr>\n",
       "    <tr>\n",
       "      <th>1</th>\n",
       "      <td>003551</td>\n",
       "      <td>经济学原理（上）：中国故事</td>\n",
       "      <td>95.7</td>\n",
       "      <td>通识课</td>\n",
       "    </tr>\n",
       "    <tr>\n",
       "      <th>2</th>\n",
       "      <td>B0021001</td>\n",
       "      <td>军事理论</td>\n",
       "      <td>78.0</td>\n",
       "      <td>通识课</td>\n",
       "    </tr>\n",
       "    <tr>\n",
       "      <th>3</th>\n",
       "      <td>B3011023</td>\n",
       "      <td>大学英语BⅠ</td>\n",
       "      <td>85.0</td>\n",
       "      <td>通识课</td>\n",
       "    </tr>\n",
       "    <tr>\n",
       "      <th>4</th>\n",
       "      <td>B2523007</td>\n",
       "      <td>大学生发展规划与就业指导Ⅰ</td>\n",
       "      <td>89.0</td>\n",
       "      <td>通识课</td>\n",
       "    </tr>\n",
       "  </tbody>\n",
       "</table>\n",
       "</div>"
      ],
      "text/plain": [
       "        kch           kcmc  bfzcj type\n",
       "0    003360         西方文明通论   99.4  通识课\n",
       "1    003551  经济学原理（上）：中国故事   95.7  通识课\n",
       "2  B0021001           军事理论   78.0  通识课\n",
       "3  B3011023         大学英语BⅠ   85.0  通识课\n",
       "4  B2523007  大学生发展规划与就业指导Ⅰ   89.0  通识课"
      ]
     },
     "execution_count": 20,
     "metadata": {},
     "output_type": "execute_result"
    }
   ],
   "source": [
    "with open(\"source_data.json\", 'r') as fd:\n",
    "    data = json.load(fd)\n",
    "df = pd.DataFrame(data[\"items\"])\n",
    "print(df.columns)\n",
    "prof_type = {\"专业基础课程\", \"学科基础课\", \"专业实践环节\", \"专业课\"}\n",
    "df[\"type\"] = df[\"kclbmc\"].apply(lambda x:\"专业课\" if x in prof_type else \"通识课\")\n",
    "df = df[[\"kch\", \"kcmc\", \"bfzcj\", \"type\"]]\n",
    "df[\"bfzcj\"] = pd.to_numeric(df[\"bfzcj\"])\n",
    "df.head()"
   ]
  },
  {
   "cell_type": "code",
   "execution_count": 21,
   "id": "30378961-1b34-41a2-b228-94fab4a69370",
   "metadata": {},
   "outputs": [],
   "source": [
    "df.to_csv(\"data.csv\", index=False)"
   ]
  },
  {
   "cell_type": "code",
   "execution_count": null,
   "id": "2b48b6af-949e-47a2-87e2-121f87226f39",
   "metadata": {},
   "outputs": [],
   "source": []
  }
 ],
 "metadata": {
  "kernelspec": {
   "display_name": "Python 3 (ipykernel)",
   "language": "python",
   "name": "python3"
  },
  "language_info": {
   "codemirror_mode": {
    "name": "ipython",
    "version": 3
   },
   "file_extension": ".py",
   "mimetype": "text/x-python",
   "name": "python",
   "nbconvert_exporter": "python",
   "pygments_lexer": "ipython3",
   "version": "3.9.7"
  }
 },
 "nbformat": 4,
 "nbformat_minor": 5
}
