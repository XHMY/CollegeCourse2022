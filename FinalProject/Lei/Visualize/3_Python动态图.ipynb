{
 "cells": [
  {
   "cell_type": "code",
   "execution_count": 1,
   "id": "8791efef-772a-463d-a936-8927f856a1c0",
   "metadata": {},
   "outputs": [],
   "source": [
    "import requests\n",
    "import pandas as pd\n",
    "import numpy as np\n",
    "import scipy.interpolate\n",
    "import matplotlib.pyplot as plt\n",
    "from matplotlib.animation import FuncAnimation\n",
    "import matplotlib.animation as animation\n",
    "from matplotlib.ticker import *\n",
    "import matplotlib_inline.backend_inline\n",
    "matplotlib_inline.backend_inline.set_matplotlib_formats('retina')\n",
    "plt.rcParams['figure.figsize'] = (14.0, 7.0)\n",
    "plt.rcParams['font.family'] = ['Arial Unicode MS'] "
   ]
  },
  {
   "cell_type": "code",
   "execution_count": 2,
   "id": "e4824ee9-c47b-4a8c-9a06-da88a97c64b3",
   "metadata": {},
   "outputs": [
    {
     "data": {
      "text/html": [
       "<div>\n",
       "<style scoped>\n",
       "    .dataframe tbody tr th:only-of-type {\n",
       "        vertical-align: middle;\n",
       "    }\n",
       "\n",
       "    .dataframe tbody tr th {\n",
       "        vertical-align: top;\n",
       "    }\n",
       "\n",
       "    .dataframe thead th {\n",
       "        text-align: right;\n",
       "    }\n",
       "</style>\n",
       "<table border=\"1\" class=\"dataframe\">\n",
       "  <thead>\n",
       "    <tr style=\"text-align: right;\">\n",
       "      <th></th>\n",
       "      <th>kch</th>\n",
       "      <th>kcmc</th>\n",
       "      <th>bfzcj</th>\n",
       "      <th>type</th>\n",
       "      <th>kcbj</th>\n",
       "      <th>xf</th>\n",
       "      <th>kcgsmc</th>\n",
       "      <th>kcxzmc</th>\n",
       "      <th>khfsmc</th>\n",
       "      <th>kkbmmc</th>\n",
       "      <th>xqmmc</th>\n",
       "      <th>xnmmc</th>\n",
       "      <th>xq</th>\n",
       "    </tr>\n",
       "  </thead>\n",
       "  <tbody>\n",
       "    <tr>\n",
       "      <th>0</th>\n",
       "      <td>003360</td>\n",
       "      <td>西方文明通论</td>\n",
       "      <td>99.4</td>\n",
       "      <td>通识课</td>\n",
       "      <td>主修</td>\n",
       "      <td>2.0</td>\n",
       "      <td>美育教育类</td>\n",
       "      <td>院公选课</td>\n",
       "      <td>考查</td>\n",
       "      <td>网络课程</td>\n",
       "      <td>1</td>\n",
       "      <td>2019-2020</td>\n",
       "      <td>2019-2020-1</td>\n",
       "    </tr>\n",
       "    <tr>\n",
       "      <th>1</th>\n",
       "      <td>003551</td>\n",
       "      <td>经济学原理（上）：中国故事</td>\n",
       "      <td>95.7</td>\n",
       "      <td>通识课</td>\n",
       "      <td>主修</td>\n",
       "      <td>2.0</td>\n",
       "      <td>人文社会科学类</td>\n",
       "      <td>院公选课</td>\n",
       "      <td>考查</td>\n",
       "      <td>网络课程</td>\n",
       "      <td>1</td>\n",
       "      <td>2019-2020</td>\n",
       "      <td>2019-2020-1</td>\n",
       "    </tr>\n",
       "    <tr>\n",
       "      <th>2</th>\n",
       "      <td>B0021001</td>\n",
       "      <td>军事理论</td>\n",
       "      <td>78.0</td>\n",
       "      <td>通识课</td>\n",
       "      <td>主修</td>\n",
       "      <td>2.0</td>\n",
       "      <td>NaN</td>\n",
       "      <td>必修课</td>\n",
       "      <td>NaN</td>\n",
       "      <td>学生处（校友工作和教育发展基金管理处）</td>\n",
       "      <td>1</td>\n",
       "      <td>2019-2020</td>\n",
       "      <td>2019-2020-1</td>\n",
       "    </tr>\n",
       "    <tr>\n",
       "      <th>7</th>\n",
       "      <td>B0041006</td>\n",
       "      <td>校规校纪与安全教育</td>\n",
       "      <td>99.0</td>\n",
       "      <td>通识课</td>\n",
       "      <td>主修</td>\n",
       "      <td>1.0</td>\n",
       "      <td>NaN</td>\n",
       "      <td>必修课</td>\n",
       "      <td>考试</td>\n",
       "      <td>学生处（校友工作和教育发展基金管理处）</td>\n",
       "      <td>1</td>\n",
       "      <td>2019-2020</td>\n",
       "      <td>2019-2020-1</td>\n",
       "    </tr>\n",
       "    <tr>\n",
       "      <th>9</th>\n",
       "      <td>B0041007</td>\n",
       "      <td>军事训练</td>\n",
       "      <td>80.0</td>\n",
       "      <td>通识课</td>\n",
       "      <td>主修</td>\n",
       "      <td>2.0</td>\n",
       "      <td>NaN</td>\n",
       "      <td>必修课</td>\n",
       "      <td>考查</td>\n",
       "      <td>学生处（校友工作和教育发展基金管理处）</td>\n",
       "      <td>1</td>\n",
       "      <td>2019-2020</td>\n",
       "      <td>2019-2020-1</td>\n",
       "    </tr>\n",
       "  </tbody>\n",
       "</table>\n",
       "</div>"
      ],
      "text/plain": [
       "        kch           kcmc  bfzcj type kcbj   xf   kcgsmc kcxzmc khfsmc  \\\n",
       "0    003360         西方文明通论   99.4  通识课   主修  2.0    美育教育类   院公选课     考查   \n",
       "1    003551  经济学原理（上）：中国故事   95.7  通识课   主修  2.0  人文社会科学类   院公选课     考查   \n",
       "2  B0021001           军事理论   78.0  通识课   主修  2.0      NaN    必修课    NaN   \n",
       "7  B0041006      校规校纪与安全教育   99.0  通识课   主修  1.0      NaN    必修课     考试   \n",
       "9  B0041007           军事训练   80.0  通识课   主修  2.0      NaN    必修课     考查   \n",
       "\n",
       "                kkbmmc  xqmmc      xnmmc           xq  \n",
       "0                 网络课程      1  2019-2020  2019-2020-1  \n",
       "1                 网络课程      1  2019-2020  2019-2020-1  \n",
       "2  学生处（校友工作和教育发展基金管理处）      1  2019-2020  2019-2020-1  \n",
       "7  学生处（校友工作和教育发展基金管理处）      1  2019-2020  2019-2020-1  \n",
       "9  学生处（校友工作和教育发展基金管理处）      1  2019-2020  2019-2020-1  "
      ]
     },
     "execution_count": 2,
     "metadata": {},
     "output_type": "execute_result"
    }
   ],
   "source": [
    "df = pd.read_csv('data.csv')\n",
    "df['xq'] =  df[\"xnmmc\"].apply(str) + '-' + df[\"xqmmc\"].apply(str)\n",
    "df.sort_values(by=['xq', 'kch'], inplace=True)\n",
    "df.head()"
   ]
  },
  {
   "cell_type": "code",
   "execution_count": 3,
   "id": "2fe038c4-4a23-43e7-84d4-fd829bf20aeb",
   "metadata": {},
   "outputs": [
    {
     "data": {
      "text/plain": [
       "xq\n",
       "2019-2020-1    89.776923\n",
       "2019-2020-2    91.400000\n",
       "2020-2021-1    90.529412\n",
       "2020-2021-2    88.312500\n",
       "2021-2022-1    93.583333\n",
       "Name: bfzcj, dtype: float64"
      ]
     },
     "execution_count": 3,
     "metadata": {},
     "output_type": "execute_result"
    }
   ],
   "source": [
    "data = df.groupby([\"xq\"])[\"bfzcj\"].mean()\n",
    "data"
   ]
  },
  {
   "cell_type": "code",
   "execution_count": 6,
   "id": "4c50dac5-c04b-4993-90b5-9354de8eaf5b",
   "metadata": {},
   "outputs": [
    {
     "data": {
      "image/png": "[encoded data removed]",
      "text/plain": [
       "<Figure size 1008x504 with 1 Axes>"
      ]
     },
     "metadata": {
      "image/png": {
       "height": 439,
       "width": 835
      },
      "needs_background": "light"
     },
     "output_type": "display_data"
    }
   ],
   "source": [
    "fig = plt.figure()\n",
    "l2, = plt.plot([], [], 'b-')\n",
    "p2, = plt.plot([], [], 'ro')\n",
    "plt.xlabel('学期')\n",
    "plt.ylabel('成绩')\n",
    "plt.title('曾一凡本科前5个学期平均成绩')\n",
    "plt.xlim(1, 5)\n",
    "plt.ylim(75, 100)\n",
    "def func2(x):\n",
    "    return scipy.interpolate.make_interp_spline(range(1,6), data.values)(x)\n",
    "writer = animation.PillowWriter(fps=15)\n",
    "xlist = []\n",
    "ylist = []\n",
    "with writer.saving(fig, \"avg_score_dynamic.gif\", 310):\n",
    "    for xval in np.linspace(1, 5, 150):\n",
    "        l2.set_data(xlist, ylist)\n",
    "        writer.grab_frame()\n",
    "        xlist.append(xval)\n",
    "        ylist.append(func2(xval))\n",
    "        p2.set_data(xval, func2(xval))\n",
    "        ax = plt.gca()\n",
    "        ax.xaxis.set_major_locator(MultipleLocator(1))"
   ]
  },
  {
   "cell_type": "markdown",
   "id": "2f152d03-d8bc-4c8b-9ebd-9e27dc73595b",
   "metadata": {},
   "source": [
    "动图生成于当前目录下 `avg_score_dynamic.gif`，请手动打开"
   ]
  },
  {
   "cell_type": "code",
   "execution_count": null,
   "id": "dd9f601d-99c8-43e7-bebc-6cd4fad7a4dc",
   "metadata": {},
   "outputs": [],
   "source": []
  }
 ],
 "metadata": {
  "kernelspec": {
   "display_name": "Python 3 (ipykernel)",
   "language": "python",
   "name": "python3"
  },
  "language_info": {
   "codemirror_mode": {
    "name": "ipython",
    "version": 3
   },
   "file_extension": ".py",
   "mimetype": "text/x-python",
   "name": "python",
   "nbconvert_exporter": "python",
   "pygments_lexer": "ipython3",
   "version": "3.9.5"
  }
 },
 "nbformat": 4,
 "nbformat_minor": 5
}
